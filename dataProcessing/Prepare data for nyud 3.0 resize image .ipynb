{
 "cells": [
  {
   "cell_type": "code",
   "execution_count": 1,
   "metadata": {
    "collapsed": false
   },
   "outputs": [],
   "source": [
    "import numpy as np\n",
    "import h5py \n",
    "import hdf5storage\n",
    "import scipy.io as sio\n",
    "from PIL import Image \n",
    "import scipy.misc as sm"
   ]
  },
  {
   "cell_type": "code",
   "execution_count": 5,
   "metadata": {
    "collapsed": true
   },
   "outputs": [],
   "source": [
    "nyud_dir = '/home/yongyang/CVProjects/nyud/'"
   ]
  },
  {
   "cell_type": "code",
   "execution_count": 4,
   "metadata": {
    "collapsed": false
   },
   "outputs": [],
   "source": [
    "#f= sio.loadmat('/home/yongyang/Desktop/nyud/data/nyu_depth_v2_labeled.mat')\n",
    "f = h5py.File('/home/yongyang/Desktop/nyud/data/nyu_depth_v2_labeled.mat')"
   ]
  },
  {
   "cell_type": "code",
   "execution_count": 4,
   "metadata": {
    "collapsed": false
   },
   "outputs": [
    {
     "data": {
      "text/plain": [
       "[u'#refs#',\n",
       " u'#subsystem#',\n",
       " u'accelData',\n",
       " u'depths',\n",
       " u'images',\n",
       " u'instances',\n",
       " u'labels',\n",
       " u'names',\n",
       " u'namesToIds',\n",
       " u'rawDepthFilenames',\n",
       " u'rawDepths',\n",
       " u'rawRgbFilenames',\n",
       " u'sceneTypes',\n",
       " u'scenes']"
      ]
     },
     "execution_count": 4,
     "metadata": {},
     "output_type": "execute_result"
    }
   ],
   "source": [
    "f.keys()"
   ]
  },
  {
   "cell_type": "markdown",
   "metadata": {},
   "source": [
    "## Deal with Depth information, generate img_xxxx.mat and img_xxxx.png"
   ]
  },
  {
   "cell_type": "code",
   "execution_count": 28,
   "metadata": {
    "collapsed": true
   },
   "outputs": [],
   "source": [
    "## scale to 0~255\n",
    "def scale_to_image(array,min_v,max_v):\n",
    "    return (array -min_v)/(max_v-min_v)*255."
   ]
  },
  {
   "cell_type": "code",
   "execution_count": 5,
   "metadata": {
    "collapsed": false,
    "scrolled": true
   },
   "outputs": [
    {
     "name": "stdout",
     "output_type": "stream",
     "text": [
      "(1449, 640, 480)\n"
     ]
    },
    {
     "data": {
      "text/plain": [
       "array([[ 134.,  134.,  134., ...,   56.,   56.,   56.],\n",
       "       [ 134.,  134.,  134., ...,   56.,   56.,   56.],\n",
       "       [ 134.,  134.,  134., ...,   56.,   56.,   56.],\n",
       "       ..., \n",
       "       [  62.,   62.,   62., ...,   40.,   40.,   40.],\n",
       "       [  62.,   62.,   62., ...,   40.,   40.,   40.],\n",
       "       [  62.,   62.,   62., ...,   40.,   40.,   40.]], dtype=float32)"
      ]
     },
     "execution_count": 5,
     "metadata": {},
     "output_type": "execute_result"
    }
   ],
   "source": [
    "print f['depths'].shape\n",
    "f['depths'][0]"
   ]
  },
  {
   "cell_type": "code",
   "execution_count": 6,
   "metadata": {
    "collapsed": true
   },
   "outputs": [],
   "source": [
    "depths_set = np.array(f['depths'])"
   ]
  },
  {
   "cell_type": "code",
   "execution_count": 32,
   "metadata": {
    "collapsed": false
   },
   "outputs": [
    {
     "name": "stdout",
     "output_type": "stream",
     "text": [
      "max vale 255.000000  min value 0.000000  mean value 106.768013 \n"
     ]
    }
   ],
   "source": [
    "# find the max value and min value of depths\n",
    "depths_set = np.array(f['depths'])\n",
    "max_v = depths_set.max()\n",
    "mean_v = depths_set.mean()\n",
    "min_v = depths_set.min()\n",
    "print 'max vale %f '%max_v,'min value %f '%min_v, 'mean value %f '%mean_v"
   ]
  },
  {
   "cell_type": "code",
   "execution_count": 180,
   "metadata": {
    "collapsed": false
   },
   "outputs": [],
   "source": [
    "for i in xrange(1449):\n",
    "    array = depths_set[i].T\n",
    "    array = scale_to_image(array,min_v,max_v)\n",
    "    array = sm.imresize(array,(425,560))           # imresize sholud put at the last position\n",
    "    im = Image.fromarray(array)\n",
    "    im = im.convert('RGB')\n",
    "    im.save(nyud_dir+'data/depths/img_{}.png'.format(5001+i))\n",
    "    sio.savemat(nyud_dir+'data/depths/img_{}.mat'.format(5001+i),{'depths':array,'dims':'HW'})"
   ]
  },
  {
   "cell_type": "code",
   "execution_count": 34,
   "metadata": {
    "collapsed": false
   },
   "outputs": [
    {
     "name": "stdout",
     "output_type": "stream",
     "text": [
      "(425, 560)\n",
      "[u'HW']\n"
     ]
    }
   ],
   "source": [
    "img = sio.loadmat(nyud_dir+\"data/depths/img_5001.mat\")\n",
    "print img['depths'].shape\n",
    "print img['dims']"
   ]
  },
  {
   "cell_type": "markdown",
   "metadata": {},
   "source": [
    "## Deal with hha ,resize and rescale, genenate png."
   ]
  },
  {
   "cell_type": "code",
   "execution_count": 35,
   "metadata": {
    "collapsed": false
   },
   "outputs": [
    {
     "name": "stdout",
     "output_type": "stream",
     "text": [
      "x channel:  max 531.293210  min -542.521566  mean -1.643854 \n",
      "y channel:  max 208.502199  min -401.823958  mean -8.740328 \n",
      "z channel:  max 1003.450286  min 0.000000  mean 238.383164 \n"
     ]
    }
   ],
   "source": [
    "# Find the max,min, mean in x,y,z channel\n",
    "max_x,min_x,mean_x = 0.,500.,0.\n",
    "max_y,min_y,mean_y = 0.,500.,0.\n",
    "max_z,min_z,mean_z = 0.,500.,0.\n",
    "x_sum_means = 0.\n",
    "y_sum_means = 0.\n",
    "z_sum_means = 0.\n",
    "for i in xrange(1449): # for save memory,process one by one\n",
    "    hha = sio.loadmat(nyud_dir+'data/pointCloud/img_{}.mat'.format(5001+i))\n",
    "    x = hha['x3']\n",
    "    x = np.nan_to_num(x)\n",
    "    y = hha['y3']\n",
    "    y = np.nan_to_num(y)\n",
    "    z = hha['z3']\n",
    "    z = np.nan_to_num(z)\n",
    "    # x channel\n",
    "    x_max_single = np.nanmax(x)\n",
    "    x_min_single =np.nanmin(x)\n",
    "    if x_max_single > max_x:max_x = x_max_single\n",
    "    if x_min_single < min_x:min_x = x_min_single\n",
    "    x_sum_means += np.nanmean(x)\n",
    "    # y channel\n",
    "    y_max_single = np.nanmax(y)\n",
    "    y_min_single =np.nanmin(y)\n",
    "    if y_max_single > max_y:max_y = y_max_single\n",
    "    if y_min_single < min_y:min_y = y_min_single\n",
    "    y_sum_means += np.nanmean(y)\n",
    "    # z channel\n",
    "    z_max_single = np.nanmax(z)\n",
    "    z_min_single = np.nanmin(z)\n",
    "    if z_max_single > max_z:max_z = z_max_single\n",
    "    if z_min_single < min_z:min_z = z_min_single\n",
    "    z_sum_means += np.nanmean(z)\n",
    "mean_x = x_sum_means/1449.\n",
    "mean_y = y_sum_means/1449.\n",
    "mean_z = z_sum_means/1449.\n",
    "print 'x channel: ','max %f '%max_x,'min %f '%min_x, 'mean %f '%mean_x\n",
    "print 'y channel: ','max %f '%max_y,'min %f '%min_y, 'mean %f '%mean_y\n",
    "print 'z channel: ','max %f '%max_z,'min %f '%min_z, 'mean %f '%mean_z\n"
   ]
  },
  {
   "cell_type": "code",
   "execution_count": 36,
   "metadata": {
    "collapsed": false
   },
   "outputs": [
    {
     "name": "stdout",
     "output_type": "stream",
     "text": [
      "126.557162631\n",
      "90.7659680613\n",
      "194.421306903\n"
     ]
    }
   ],
   "source": [
    "print scale_to_image(mean_x,max_x,min_x)\n",
    "print scale_to_image(mean_y,max_y,min_y)\n",
    "print scale_to_image(mean_z,max_z,min_z)"
   ]
  },
  {
   "cell_type": "code",
   "execution_count": 39,
   "metadata": {
    "collapsed": false
   },
   "outputs": [],
   "source": [
    "# Check hha dataset\n",
    "x_sum = 0.\n",
    "y_sum = 0.\n",
    "z_sum = 0.\n",
    "for i in xrange(1449):\n",
    "    hha = sio.loadmat(nyud_dir+'data/pointCloud/img_{}.mat'.format(5001+i))\n",
    "    x = hha['x3']\n",
    "    y = hha['y3']\n",
    "    z = hha['z3']\n",
    "    x = scale_to_image(x,min_x,max_x)\n",
    "    y = scale_to_image(y,min_y,max_y)\n",
    "    z = scale_to_image(z,min_z,max_z)\n",
    "    array =np.array([x,y,z])\n",
    "    vec = array.transpose(1,2,0)\n",
    "    vec = np.nan_to_num(vec)\n",
    "    vec = sm.imresize(vec,(425,560))\n",
    "    im = Image.fromarray(vec)\n",
    "    im = im.convert('RGB')\n",
    "    im.save(nyud_dir+'data/hha/img_{}.png'.format(5001+i))\n",
    "    sio.savemat(nyud_dir+'data/hha/img_{}.mat'.format(5001+i),{'hha':array,'dims':'CHW'})"
   ]
  },
  {
   "cell_type": "markdown",
   "metadata": {},
   "source": [
    "## Deal with color images,generate image_xxxx.png and image_xxxx.mat"
   ]
  },
  {
   "cell_type": "code",
   "execution_count": 130,
   "metadata": {
    "collapsed": true
   },
   "outputs": [],
   "source": [
    "# Helper function for deprocessing preprocessed images, e.g., for display.\n",
    "def deprocess_net_image(image):\n",
    "    image = image.copy()              # don't modify destructively\n",
    "    image = image[::-1]               # BGR -> RGB\n",
    "    image = image.transpose(2, 1, 0)  # CHW -> HWC\n",
    "    image += [123, 117, 104]          # (approximately) undo mean subtraction\n",
    "\n",
    "    # clamp values in [0, 255]\n",
    "    image[image < 0], image[image > 255] = 0, 255\n",
    "\n",
    "    # round and cast from float32 to uint8\n",
    "    image = np.round(image)\n",
    "    image = np.require(image, dtype=np.uint8)\n",
    "\n",
    "    return image"
   ]
  },
  {
   "cell_type": "code",
   "execution_count": 41,
   "metadata": {
    "collapsed": false
   },
   "outputs": [
    {
     "name": "stdout",
     "output_type": "stream",
     "text": [
      "(1449, 3, 640, 480)\n"
     ]
    },
    {
     "data": {
      "text/plain": [
       "array([[[255, 255, 255, ..., 255, 255, 255],\n",
       "        [255, 255, 255, ..., 255, 255, 255],\n",
       "        [255, 255, 255, ..., 255, 255, 255],\n",
       "        ..., \n",
       "        [255, 255, 255, ..., 255, 255, 255],\n",
       "        [255, 255, 255, ..., 255, 255, 255],\n",
       "        [255, 255, 255, ..., 255, 255, 255]],\n",
       "\n",
       "       [[255, 255, 255, ..., 255, 255, 255],\n",
       "        [255, 255, 255, ..., 255, 255, 255],\n",
       "        [255, 255, 255, ..., 255, 255, 255],\n",
       "        ..., \n",
       "        [255, 255, 255, ..., 255, 255, 255],\n",
       "        [255, 255, 255, ..., 255, 255, 255],\n",
       "        [255, 255, 255, ..., 255, 255, 255]],\n",
       "\n",
       "       [[255, 255, 255, ..., 255, 255, 255],\n",
       "        [255, 255, 255, ..., 255, 255, 255],\n",
       "        [255, 255, 255, ..., 255, 255, 255],\n",
       "        ..., \n",
       "        [255, 255, 255, ..., 255, 255, 255],\n",
       "        [255, 255, 255, ..., 255, 255, 255],\n",
       "        [255, 255, 255, ..., 255, 255, 255]]], dtype=uint8)"
      ]
     },
     "execution_count": 41,
     "metadata": {},
     "output_type": "execute_result"
    }
   ],
   "source": [
    "print f['images'].shape\n",
    "f['images'][1448]"
   ]
  },
  {
   "cell_type": "code",
   "execution_count": 58,
   "metadata": {
    "collapsed": false
   },
   "outputs": [],
   "source": [
    "import matplotlib.pyplot as plt\n",
    "for i in xrange(1449):\n",
    "    # to png\n",
    "    vec = f[\"images\"][i]         # RGB,CWH\n",
    "    array =  vec[::-1]           # RGB ->BGR\n",
    "    array = array.transpose(0,2,1) #CWH ->HWC\n",
    "    vec = vec.transpose(2, 1,0)  # CWH -> HWC\n",
    "    vec = sm.imresize(vec,(425,560))\n",
    "    im = Image.fromarray(vec)\n",
    "    im = im.convert('RGB')\n",
    "    im.save(nyud_dir+'data/images/img_{}.png'.format(5001+i))\n",
    "    # to mat BGR form\n",
    "    array = vec.transpose(2,0,1)  \n",
    "    sio.savemat(nyud_dir+'data/images/img_{}.mat'.format(5001+i),{'image':array,'dims':'BGR,CHW'})"
   ]
  },
  {
   "cell_type": "code",
   "execution_count": 51,
   "metadata": {
    "collapsed": false
   },
   "outputs": [
    {
     "name": "stdout",
     "output_type": "stream",
     "text": [
      "(3, 425, 560)\n",
      "[u'BGR,CHW']\n"
     ]
    }
   ],
   "source": [
    "img = sio.loadmat(nyud_dir+\"data/images/img_5001.mat\")\n",
    "print img['image'].shape\n",
    "print img['dims']"
   ]
  },
  {
   "cell_type": "markdown",
   "metadata": {},
   "source": [
    "## Deal with segmentation label, generate mat file,HW"
   ]
  },
  {
   "cell_type": "code",
   "execution_count": 225,
   "metadata": {
    "collapsed": false
   },
   "outputs": [
    {
     "name": "stdout",
     "output_type": "stream",
     "text": [
      "(1449, 640, 480)\n",
      "[[0 0 0 ..., 0 0 0]\n",
      " [0 0 0 ..., 0 0 0]\n",
      " [0 0 0 ..., 0 0 0]\n",
      " ..., \n",
      " [0 0 0 ..., 0 0 0]\n",
      " [0 0 0 ..., 0 0 0]\n",
      " [0 0 0 ..., 0 0 0]]\n"
     ]
    }
   ],
   "source": [
    "print f['labels'].shape\n",
    "print f['labels'][0]"
   ]
  },
  {
   "cell_type": "code",
   "execution_count": 163,
   "metadata": {
    "collapsed": true
   },
   "outputs": [],
   "source": [
    "pic_Label = sio.loadmat(nyud_dir+'data/benchmarkData/groundTruth/img_5001.mat')"
   ]
  },
  {
   "cell_type": "code",
   "execution_count": 164,
   "metadata": {
    "collapsed": false
   },
   "outputs": [
    {
     "data": {
      "text/plain": [
       "['__version__', '__header__', 'groundTruth', '__globals__']"
      ]
     },
     "execution_count": 164,
     "metadata": {},
     "output_type": "execute_result"
    }
   ],
   "source": [
    "pic_Label.keys()"
   ]
  },
  {
   "cell_type": "code",
   "execution_count": 224,
   "metadata": {
    "collapsed": false
   },
   "outputs": [
    {
     "name": "stdout",
     "output_type": "stream",
     "text": [
      "(425, 560)\n",
      "[31 31 31 31 31 31 31 31 31 31 31 31 31 31 31 31 31 31 31 31 31 31 31 31 29\n",
      " 29 29 29 29 29 29 29 29 29 29 29 30 30 30 30 30 30 30 30 30 30 30 30 30 30\n",
      " 30 30 30 30 30 30 30 30 30 30 30 30 30 30 30 30 30 30 30 30 30 30 30 30 30\n",
      " 30 30 30 30 30 30 30 30 30 30 30 30 30  6  6  6  6  6  6  6  6  6  6  6  6\n",
      "  6  6  6  6  6  6  6  6  6  6  6  6  6  6  6  6  6  6  6  6  6  6  6  6  6\n",
      "  6  6  6  6  6  6  6  6  6  6  6  6  6  6  6  6  6  6  6  6  6  6  6  6  6\n",
      "  6  6  6  6  6  6  6  6  6  6  6  6  6  6  6  6  6  6  6  6  6  6  6  6  6\n",
      "  6  6  6  6  6  6  6  6  6  6  6  6  6  6  6  6  6  6  6  6  6  6  6  6  6\n",
      "  6  6  6  6  6  6  6  6  6  6  6  6  6  6  6  6  6  6  6  6  6  6  6  6  6\n",
      "  6  6  6  6  6  6  6  6  6  6  6  6  6  6  6  6  6  6  6  6  6  6  6  6  6\n",
      "  6  6  6  6  6  6  6  6  6  6  6  6  6  6  6  6  6  6  6  6  6  6  6  6  6\n",
      "  6  6  6  6  6  6  6  6  6  6  6  6  6  6  6  6  6  6  6  6  6  6  6  6  6\n",
      "  6  6  6  6  6  6  6  6  6  6  6  6  6  6  6  6  6  6  6  6  6  6  6  6  6\n",
      "  6  6  6  6  6  6  6  6  6  6  6  6  6  6  6  6  6  6  6  6  6  6  6  6  6\n",
      "  6  6  6  6  6  6  6  6  6  6  6  6  6  6  6  6  6  6  6  6  6  6  6  6  6\n",
      "  6  6  6  6  6  6  6  6  6  6  6  6  6  6  6  6  6  6  6  6  6  6  6  6  6\n",
      "  6  6  6  6  6  6  6  6  6  6  6  6  6  6  6 27 27 27 27 27 27 27 27 27 27\n",
      " 27 27 27 27 27 27 27 27 27 27 27 27 27 27 27 27 27 27 27 27 27 27 27 27 27\n",
      " 27 27 27 27 27 27 27 27 27 27 27 27 27 27 27 27 27 27 27 27 27 27 27 27 27\n",
      " 27 27 27 27 27 27 27 27 27 27 27 27 27 27 27 27 27  5  5  5  5  5  5  5  5\n",
      "  5  5  5  5  5  5  5  5  5  5  5  5  5  5  5  5  5  5  5  5  5  5  5  5  5\n",
      "  5  5  5  5  5  5  5  5  5  5  5  5  5  5  5  5  5  5  5  5  5  5  5  5  5\n",
      "  5  5  5  5  5  5  5  5  5  5]\n"
     ]
    }
   ],
   "source": [
    "vec = pic_Label['groundTruth']\n",
    "print vec[0][0][0][0][0].shape\n",
    "print vec[0][0][0][0][0][0]"
   ]
  },
  {
   "cell_type": "code",
   "execution_count": 248,
   "metadata": {
    "collapsed": false
   },
   "outputs": [],
   "source": [
    "for i in xrange(1449):\n",
    "    mat = sio.loadmat(nyud_dir+'data/benchmarkData/groundTruth/img_{}.mat'.format(5001+i))\n",
    "    vec = mat['groundTruth'][0][0][0][0][0]\n",
    "    #im = Image.fromarray(vec)\n",
    "    #im.convert('RGB')\n",
    "    #im.save(nyud_dir+'data/segmentation/img_{}.png'.format(5001+i))\n",
    "    sio.savemat(nyud_dir+'data/segmentation/img_{}.mat'.format(5001+i),{'segmentation':vec,'dims':'HW'})"
   ]
  },
  {
   "cell_type": "code",
   "execution_count": 249,
   "metadata": {
    "collapsed": false
   },
   "outputs": [
    {
     "name": "stdout",
     "output_type": "stream",
     "text": [
      "[[31 31 31 ...,  5  5  5]\n",
      " [31 31 31 ...,  5  5  5]\n",
      " [31 31 31 ...,  5  5  5]\n",
      " ..., \n",
      " [ 7  7  7 ..., 22 22 22]\n",
      " [ 7  7  7 ..., 22 22 22]\n",
      " [ 7  7  7 ..., 22 22 22]]\n",
      "[u'HW']\n"
     ]
    }
   ],
   "source": [
    "# Test segmentation data\n",
    "mat = sio.loadmat(nyud_dir+'data/segmentation/img_4.mat')\n",
    "print mat['segmentation']\n",
    "print mat['dims']"
   ]
  },
  {
   "cell_type": "code",
   "execution_count": 115,
   "metadata": {
    "collapsed": false
   },
   "outputs": [
    {
     "name": "stdout",
     "output_type": "stream",
     "text": [
      "(480, 640)\n",
      "[u'HW']\n"
     ]
    }
   ],
   "source": [
    "img = sio.loadmat(nyud_dir+\"data/segmentation/img_5001.mat\")\n",
    "print img['segmentation'].shape\n",
    "print img['dims']"
   ]
  },
  {
   "cell_type": "markdown",
   "metadata": {},
   "source": [
    "## Check the scene label and object label"
   ]
  },
  {
   "cell_type": "markdown",
   "metadata": {},
   "source": [
    "## objects 0 means not labeled"
   ]
  },
  {
   "cell_type": "code",
   "execution_count": 140,
   "metadata": {
    "collapsed": false
   },
   "outputs": [
    {
     "name": "stdout",
     "output_type": "stream",
     "text": [
      "(1, 894)\n"
     ]
    }
   ],
   "source": [
    "print f['names'].shape"
   ]
  },
  {
   "cell_type": "code",
   "execution_count": 143,
   "metadata": {
    "collapsed": false
   },
   "outputs": [
    {
     "data": {
      "text/plain": [
       "<HDF5 object reference>"
      ]
     },
     "execution_count": 143,
     "metadata": {},
     "output_type": "execute_result"
    }
   ],
   "source": [
    "f['names'][0][6]"
   ]
  },
  {
   "cell_type": "code",
   "execution_count": 144,
   "metadata": {
    "collapsed": false
   },
   "outputs": [
    {
     "name": "stdout",
     "output_type": "stream",
     "text": [
      "book\n",
      "bottle\n",
      "cabinet\n",
      "ceiling\n",
      "chair\n",
      "cone\n",
      "counter\n",
      "dishwasher\n",
      "faucet\n",
      "fire extinguisher\n",
      "floor\n",
      "garbage bin\n",
      "microwave\n",
      "paper towel dispenser\n",
      "paper\n",
      "pot\n",
      "refridgerator\n",
      "stove burner\n",
      "table\n",
      "unknown\n",
      "wall\n",
      "bowl\n",
      "magnet\n",
      "sink\n",
      "air vent\n",
      "box\n",
      "door knob\n",
      "door\n",
      "scissor\n",
      "tape dispenser\n",
      "telephone cord\n",
      "telephone\n",
      "track light\n",
      "cork board\n",
      "cup\n",
      "desk\n",
      "laptop\n",
      "air duct\n",
      "basket\n",
      "camera\n",
      "pipe\n",
      "shelves\n",
      "stacked chairs\n",
      "styrofoam object\n",
      "whiteboard\n",
      "computer\n",
      "keyboard\n",
      "ladder\n",
      "monitor\n",
      "stand\n",
      "bar\n",
      "motion camera\n",
      "projector screen\n",
      "speaker\n",
      "bag\n",
      "clock\n",
      "green screen\n",
      "mantel\n",
      "window\n",
      "ball\n",
      "hole puncher\n",
      "light\n",
      "manilla envelope\n",
      "picture\n",
      "mail shelf\n",
      "printer\n",
      "stapler\n",
      "fax machine\n",
      "folder\n",
      "jar\n",
      "magazine\n",
      "ruler\n",
      "cable modem\n",
      "fan\n",
      "file\n",
      "hand sanitizer\n",
      "paper rack\n",
      "vase\n",
      "air conditioner\n",
      "blinds\n",
      "flower\n",
      "plant\n",
      "sofa\n",
      "stereo\n",
      "books\n",
      "exit sign\n",
      "room divider\n",
      "bookshelf\n",
      "curtain\n",
      "projector\n",
      "modem\n",
      "wire\n",
      "water purifier\n",
      "column\n",
      "hooks\n",
      "hanging hooks\n",
      "pen\n",
      "electrical outlet\n",
      "doll\n",
      "eraser\n",
      "pencil holder\n",
      "water carboy\n",
      "mouse\n",
      "cable rack\n",
      "wire rack\n",
      "flipboard\n",
      "map\n",
      "paper cutter\n",
      "tape\n",
      "thermostat\n",
      "heater\n",
      "circuit breaker box\n",
      "paper towel\n",
      "stamp\n",
      "duster\n",
      "poster case\n",
      "whiteboard marker\n",
      "ethernet jack\n",
      "pillow\n",
      "hair brush\n",
      "makeup brush\n",
      "mirror\n",
      "shower curtain\n",
      "toilet\n",
      "toiletries bag\n",
      "toothbrush holder\n",
      "toothbrush\n",
      "toothpaste\n",
      "platter\n",
      "rug\n",
      "squeeze tube\n",
      "shower cap\n",
      "soap\n",
      "towel rod\n",
      "towel\n",
      "bathtub\n",
      "candle\n",
      "tissue box\n",
      "toilet paper\n",
      "container\n",
      "clothes\n",
      "electric toothbrush\n",
      "floor mat\n",
      "lamp\n",
      "drum\n",
      "flower pot\n",
      "banana\n",
      "candlestick\n",
      "shoe\n",
      "stool\n",
      "urn\n",
      "earplugs\n",
      "mailshelf\n",
      "placemat\n",
      "excercise ball\n",
      "alarm clock\n",
      "bed\n",
      "night stand\n",
      "deoderant\n",
      "headphones\n",
      "headboard\n",
      "basketball hoop\n",
      "foot rest\n",
      "laundry basket\n",
      "sock\n",
      "football\n",
      "mens suit\n",
      "cable box\n",
      "dresser\n",
      "dvd player\n",
      "shaver\n",
      "television\n",
      "contact lens solution bottle\n",
      "drawer\n",
      "remote control\n",
      "cologne\n",
      "stuffed animal\n",
      "lint roller\n",
      "tray\n",
      "lock\n",
      "purse\n",
      "toy bottle\n",
      "crate\n",
      "vasoline\n",
      "gift wrapping roll\n",
      "wall decoration\n",
      "hookah\n",
      "radio\n",
      "bicycle\n",
      "pen box\n",
      "mask\n",
      "shorts\n",
      "hat\n",
      "hockey glove\n",
      "hockey stick\n",
      "vuvuzela\n",
      "dvd\n",
      "chessboard\n",
      "suitcase\n",
      "calculator\n",
      "flashcard\n",
      "staple remover\n",
      "umbrella\n",
      "bench\n",
      "yoga mat\n",
      "backpack\n",
      "cd\n",
      "sign\n",
      "hangers\n",
      "notebook\n",
      "hanger\n",
      "security camera\n",
      "folders\n",
      "clothing hanger\n",
      "stairs\n",
      "glass rack\n",
      "saucer\n",
      "tag\n",
      "dolly\n",
      "machine\n",
      "trolly\n",
      "shopping baskets\n",
      "gate\n",
      "bookrack\n",
      "blackboard\n",
      "coffee bag\n",
      "coffee packet\n",
      "hot water heater\n",
      "muffins\n",
      "napkin dispenser\n",
      "plaque\n",
      "plastic tub\n",
      "plate\n",
      "coffee machine\n",
      "napkin holder\n",
      "radiator\n",
      "coffee grinder\n",
      "oven\n",
      "plant pot\n",
      "scarf\n",
      "spice rack\n",
      "stove\n",
      "tea kettle\n",
      "napkin\n",
      "bag of chips\n",
      "bread\n",
      "cutting board\n",
      "dish brush\n",
      "serving spoon\n",
      "sponge\n",
      "toaster\n",
      "cooking pan\n",
      "kitchen items\n",
      "ladel\n",
      "spatula\n",
      "spice stand\n",
      "trivet\n",
      "knife rack\n",
      "knife\n",
      "baking dish\n",
      "dish scrubber\n",
      "drying rack\n",
      "vessel\n",
      "kichen towel\n",
      "tin foil\n",
      "kitchen utensil\n",
      "utensil\n",
      "blender\n",
      "garbage bag\n",
      "sink protector\n",
      "box of ziplock bags\n",
      "spice bottle\n",
      "pitcher\n",
      "pizza box\n",
      "toaster oven\n",
      "step stool\n",
      "vegetable peeler\n",
      "washing machine\n",
      "can opener\n",
      "can of food\n",
      "paper towel holder\n",
      "spoon stand\n",
      "spoon\n",
      "wooden kitchen utensils\n",
      "bag of flour\n",
      "fruit\n",
      "sheet of metal\n",
      "waffle maker\n",
      "cake\n",
      "cell phone\n",
      "tv stand\n",
      "tablecloth\n",
      "wine glass\n",
      "sculpture\n",
      "wall stand\n",
      "iphone\n",
      "coke bottle\n",
      "piano\n",
      "wine rack\n",
      "guitar\n",
      "light switch\n",
      "shirts in hanger\n",
      "router\n",
      "glass pot\n",
      "cart\n",
      "vacuum cleaner\n",
      "bin\n",
      "coins\n",
      "hand sculpture\n",
      "ipod\n",
      "jersey\n",
      "blanket\n",
      "ironing board\n",
      "pen stand\n",
      "mens tie\n",
      "glass baking dish\n",
      "utensils\n",
      "frying pan\n",
      "shopping cart\n",
      "plastic bowl\n",
      "wooden container\n",
      "onion\n",
      "potato\n",
      "jacket\n",
      "dvds\n",
      "surge protector\n",
      "tumbler\n",
      "broom\n",
      "can\n",
      "crock pot\n",
      "person\n",
      "salt shaker\n",
      "wine bottle\n",
      "apple\n",
      "eye glasses\n",
      "menorah\n",
      "bicycle helmet\n",
      "fire alarm\n",
      "water fountain\n",
      "humidifier\n",
      "necklace\n",
      "chandelier\n",
      "barrel\n",
      "chest\n",
      "decanter\n",
      "wooden utensils\n",
      "globe\n",
      "sheets\n",
      "fork\n",
      "napkin ring\n",
      "gift wrapping\n",
      "bed sheets\n",
      "spot light\n",
      "lighting track\n",
      "cannister\n",
      "coffee table\n",
      "mortar and pestle\n",
      "stack of plates\n",
      "ottoman\n",
      "server\n",
      "salt container\n",
      "utensil container\n",
      "phone jack\n",
      "switchbox\n",
      "casserole dish\n",
      "oven handle\n",
      "whisk\n",
      "dish cover\n",
      "electric mixer\n",
      "decorative platter\n",
      "drawer handle\n",
      "fireplace\n",
      "stroller\n",
      "bookend\n",
      "table runner\n",
      "typewriter\n",
      "ashtray\n",
      "key\n",
      "suit jacket\n",
      "range hood\n",
      "cleaning wipes\n",
      "six pack of beer\n",
      "decorative plate\n",
      "watch\n",
      "balloon\n",
      "ipad\n",
      "coaster\n",
      "whiteboard eraser\n",
      "toy\n",
      "toys basket\n",
      "toy truck\n",
      "classroom board\n",
      "chart stand\n",
      "picture of fish\n",
      "plastic box\n",
      "pencil\n",
      "carton\n",
      "walkie talkie\n",
      "binder\n",
      "coat hanger\n",
      "filing shelves\n",
      "plastic crate\n",
      "plastic rack\n",
      "plastic tray\n",
      "flag\n",
      "poster board\n",
      "lunch bag\n",
      "board\n",
      "leg of a girl\n",
      "file holder\n",
      "chart\n",
      "glass pane\n",
      "cardboard tube\n",
      "bassinet\n",
      "toy car\n",
      "toy shelf\n",
      "toy bin\n",
      "toys shelf\n",
      "educational display\n",
      "placard\n",
      "soft toy group\n",
      "soft toy\n",
      "toy cube\n",
      "toy cylinder\n",
      "toy rectangle\n",
      "toy triangle\n",
      "bucket\n",
      "chalkboard\n",
      "game table\n",
      "storage shelvesbooks\n",
      "toy cuboid\n",
      "toy tree\n",
      "wooden toy\n",
      "toy box\n",
      "toy phone\n",
      "toy sink\n",
      "toyhouse\n",
      "notecards\n",
      "toy trucks\n",
      "wall hand sanitizer dispenser\n",
      "cap stand\n",
      "music stereo\n",
      "toys rack\n",
      "display board\n",
      "lid of jar\n",
      "stacked bins  boxes\n",
      "stacked plastic racks\n",
      "storage rack\n",
      "roll of paper towels\n",
      "cables\n",
      "power surge\n",
      "cardboard sheet\n",
      "banister\n",
      "show piece\n",
      "pepper shaker\n",
      "kitchen island\n",
      "excercise equipment\n",
      "treadmill\n",
      "ornamental plant\n",
      "piano bench\n",
      "sheet music\n",
      "grandfather clock\n",
      "iron grill\n",
      "pen holder\n",
      "toy doll\n",
      "globe stand\n",
      "telescope\n",
      "magazine holder\n",
      "file container\n",
      "paper holder\n",
      "flower box\n",
      "pyramid\n",
      "desk mat\n",
      "cordless phone\n",
      "desk drawer\n",
      "envelope\n",
      "window frame\n",
      "id card\n",
      "file stand\n",
      "paper weight\n",
      "toy plane\n",
      "money\n",
      "papers\n",
      "comforter\n",
      "crib\n",
      "doll house\n",
      "toy chair\n",
      "toy sofa\n",
      "plastic chair\n",
      "toy house\n",
      "child carrier\n",
      "cloth bag\n",
      "cradle\n",
      "baby chair\n",
      "chart roll\n",
      "toys box\n",
      "railing\n",
      "clothing dryer\n",
      "clothing washer\n",
      "laundry detergent jug\n",
      "clothing detergent\n",
      "bottle of soap\n",
      "box of paper\n",
      "trolley\n",
      "hand sanitizer dispenser\n",
      "soap holder\n",
      "water dispenser\n",
      "photo\n",
      "water cooler\n",
      "foosball table\n",
      "crayon\n",
      "hoola hoop\n",
      "horse toy\n",
      "plastic toy container\n",
      "pool table\n",
      "game system\n",
      "pool sticks\n",
      "console system\n",
      "video game\n",
      "pool ball\n",
      "trampoline\n",
      "tricycle\n",
      "wii\n",
      "furniture\n",
      "alarm\n",
      "toy table\n",
      "ornamental item\n",
      "copper vessel\n",
      "stick\n",
      "car\n",
      "mezuza\n",
      "toy cash register\n",
      "lid\n",
      "paper bundle\n",
      "business cards\n",
      "clipboard\n",
      "flatbed scanner\n",
      "paper tray\n",
      "mouse pad\n",
      "display case\n",
      "tree sculpture\n",
      "basketball\n",
      "fiberglass case\n",
      "framed certificate\n",
      "cordless telephone\n",
      "shofar\n",
      "trophy\n",
      "cleaner\n",
      "cloth drying stand\n",
      "electric box\n",
      "furnace\n",
      "piece of wood\n",
      "wooden pillar\n",
      "drying stand\n",
      "cane\n",
      "clothing drying rack\n",
      "iron box\n",
      "excercise machine\n",
      "sheet\n",
      "rope\n",
      "sticks\n",
      "wooden planks\n",
      "toilet plunger\n",
      "bar of soap\n",
      "toilet bowl brush\n",
      "light bulb\n",
      "drain\n",
      "faucet handle\n",
      "nailclipper\n",
      "shaving cream\n",
      "rolled carpet\n",
      "clothing iron\n",
      "window cover\n",
      "charger and wire\n",
      "quilt\n",
      "mattress\n",
      "hair dryer\n",
      "stones\n",
      "pepper grinder\n",
      "cat cage\n",
      "dish rack\n",
      "curtain rod\n",
      "calendar\n",
      "head phones\n",
      "cd disc\n",
      "head phone\n",
      "usb drive\n",
      "water heater\n",
      "pan\n",
      "tuna cans\n",
      "baby gate\n",
      "spoon sets\n",
      "cans of cat food\n",
      "cat\n",
      "flower basket\n",
      "fruit platter\n",
      "grapefruit\n",
      "kiwi\n",
      "hand blender\n",
      "knobs\n",
      "vessels\n",
      "cell phone charger\n",
      "wire basket\n",
      "tub of tupperware\n",
      "candelabra\n",
      "litter box\n",
      "shovel\n",
      "cat bed\n",
      "door way\n",
      "belt\n",
      "surge protect\n",
      "glass\n",
      "console controller\n",
      "shoe rack\n",
      "door frame\n",
      "computer disk\n",
      "briefcase\n",
      "mail tray\n",
      "file pad\n",
      "letter stand\n",
      "plastic cup of coffee\n",
      "glass box\n",
      "ping pong ball\n",
      "ping pong racket\n",
      "ping pong table\n",
      "tennis racket\n",
      "ping pong racquet\n",
      "xbox\n",
      "electric toothbrush base\n",
      "toilet brush\n",
      "toiletries\n",
      "razor\n",
      "bottle of contact lens solution\n",
      "contact lens case\n",
      "cream\n",
      "glass container\n",
      "container of skin cream\n",
      "soap dish\n",
      "scale\n",
      "soap stand\n",
      "cactus\n",
      "door  window  reflection\n",
      "ceramic frog\n",
      "incense candle\n",
      "storage space\n",
      "door lock\n",
      "toilet paper holder\n",
      "tissue\n",
      "personal care liquid\n",
      "shower head\n",
      "shower knob\n",
      "knob\n",
      "cream tube\n",
      "perfume box\n",
      "perfume\n",
      "back scrubber\n",
      "door facing trimreflection\n",
      "doorreflection\n",
      "light switchreflection\n",
      "medicine tube\n",
      "wallet\n",
      "soap tray\n",
      "door curtain\n",
      "shower pipe\n",
      "face wash cream\n",
      "flashlight\n",
      "shower base\n",
      "window shelf\n",
      "shower hose\n",
      "toothpaste holder\n",
      "soap box\n",
      "incense holder\n",
      "conch shell\n",
      "roll of toilet paper\n",
      "shower tube\n",
      "bottle of listerine\n",
      "bottle of hand wash liquid\n",
      "tea pot\n",
      "lazy susan\n",
      "avocado\n",
      "fruit stand\n",
      "fruitplate\n",
      "oil container\n",
      "package of water\n",
      "bottle of liquid\n",
      "door way arch\n",
      "jug\n",
      "bulb\n",
      "bagel\n",
      "bag of bagels\n",
      "banana peel\n",
      "bag of oreo\n",
      "flask\n",
      "collander\n",
      "brick\n",
      "torch\n",
      "dog bowl\n",
      "wooden plank\n",
      "eggs\n",
      "grill\n",
      "dog\n",
      "chimney\n",
      "dog cage\n",
      "orange plastic cap\n",
      "glass set\n",
      "vessel set\n",
      "mellon\n",
      "aluminium foil\n",
      "orange\n",
      "peach\n",
      "tea coaster\n",
      "butterfly sculpture\n",
      "corkscrew\n",
      "heating tray\n",
      "food processor\n",
      "corn\n",
      "squash\n",
      "watermellon\n",
      "vegetables\n",
      "celery\n",
      "glass dish\n",
      "hot dogs\n",
      "plastic dish\n",
      "vegetable\n",
      "sticker\n",
      "chapstick\n",
      "sifter\n",
      "fruit basket\n",
      "glove\n",
      "measuring cup\n",
      "water filter\n",
      "wine accessory\n",
      "dishes\n",
      "file box\n",
      "ornamental pot\n",
      "dog toy\n",
      "salt and pepper\n",
      "electrical kettle\n",
      "kitchen container plastic\n",
      "pineapple\n",
      "suger jar\n",
      "steamer\n",
      "charger\n",
      "mug holder\n",
      "orange juicer\n",
      "juicer\n",
      "bag of hot dog buns\n",
      "hamburger bun\n",
      "mug hanger\n",
      "bottle of ketchup\n",
      "toy kitchen\n",
      "food wrapped on a tray\n",
      "kitchen utensils\n",
      "oven mitt\n",
      "bottle of comet\n",
      "wooden utensil\n",
      "decorative dish\n",
      "handle\n",
      "label\n",
      "flask set\n",
      "cooking pot cover\n",
      "tupperware\n",
      "garlic\n",
      "tissue roll\n",
      "lemon\n",
      "wine\n",
      "decorative bottle\n",
      "wire tray\n",
      "tea cannister\n",
      "clothing hamper\n",
      "guitar case\n",
      "wardrobe\n",
      "boomerang\n",
      "button\n",
      "karate belts\n",
      "medal\n",
      "window seat\n",
      "window box\n",
      "necklace holder\n",
      "beeper\n",
      "webcam\n",
      "fish tank\n",
      "luggage\n",
      "life jacket\n",
      "shoelace\n",
      "pen cup\n",
      "eyeball plastic ball\n",
      "toy pyramid\n",
      "model boat\n",
      "certificate\n",
      "puppy toy\n",
      "wire board\n",
      "quill\n",
      "canister\n",
      "toy boat\n",
      "antenna\n",
      "bean bag\n",
      "lint comb\n",
      "travel bag\n",
      "wall divider\n",
      "toy chest\n",
      "headband\n",
      "luggage rack\n",
      "bunk bed\n",
      "lego\n",
      "yarmulka\n",
      "package of bedroom sheets\n",
      "bedding package\n",
      "comb\n",
      "dollar bill\n",
      "pig\n",
      "storage bin\n",
      "storage chest\n",
      "slide\n",
      "playpen\n",
      "electronic drumset\n",
      "ipod dock\n",
      "microphone\n",
      "music keyboard\n",
      "music stand\n",
      "microphone stand\n",
      "album\n",
      "kinect\n",
      "inkwell\n",
      "baseball\n",
      "decorative bowl\n",
      "book holder\n",
      "toy horse\n",
      "desser\n",
      "toy apple\n",
      "toy dog\n",
      "scenary\n",
      "drawer knob\n",
      "shoe hanger\n",
      "tent\n",
      "figurine\n",
      "soccer ball\n",
      "hand weight\n",
      "magic 8ball\n",
      "bottle of perfume\n",
      "sleeping bag\n",
      "decoration item\n",
      "envelopes\n",
      "trinket\n",
      "hand fan\n",
      "sculpture of the chrysler building\n",
      "sculpture of the eiffel tower\n",
      "sculpture of the empire state building\n",
      "jeans\n",
      "garage door\n",
      "case\n",
      "rags\n",
      "decorative item\n",
      "toy stroller\n",
      "shelf frame\n",
      "cat house\n",
      "can of beer\n",
      "dog bed\n",
      "lamp shade\n",
      "bracelet\n",
      "reflection of window shutters\n",
      "decorative egg\n",
      "indoor fountain\n",
      "photo album\n",
      "decorative candle\n",
      "walkietalkie\n",
      "serving dish\n",
      "floor trim\n",
      "mini display platform\n",
      "american flag\n",
      "vhs tapes\n",
      "throw\n",
      "newspapers\n",
      "mantle\n",
      "package of bottled water\n",
      "serving platter\n",
      "display platter\n",
      "centerpiece\n",
      "tea box\n",
      "gold piece\n",
      "wreathe\n",
      "lectern\n",
      "hammer\n",
      "matchbox\n",
      "pepper\n",
      "yellow pepper\n",
      "duck\n",
      "eggplant\n",
      "glass ware\n",
      "sewing machine\n",
      "rolled up rug\n",
      "doily\n",
      "coffee pot\n",
      "torah\n"
     ]
    }
   ],
   "source": [
    "for i in xrange(894):\n",
    "    test = f['names']\n",
    "    st = test[0][i]\n",
    "    obj = f[st]\n",
    "    str1 = ''.join(chr(i) for i in obj[:])\n",
    "    print str1 "
   ]
  },
  {
   "cell_type": "code",
   "execution_count": 42,
   "metadata": {
    "collapsed": false
   },
   "outputs": [
    {
     "name": "stdout",
     "output_type": "stream",
     "text": [
      "(1, 1449)\n"
     ]
    },
    {
     "data": {
      "text/plain": [
       "array([<HDF5 object reference>, <HDF5 object reference>,\n",
       "       <HDF5 object reference>, ..., <HDF5 object reference>,\n",
       "       <HDF5 object reference>, <HDF5 object reference>], dtype=object)"
      ]
     },
     "execution_count": 42,
     "metadata": {},
     "output_type": "execute_result"
    }
   ],
   "source": [
    "print f['scenes'].shape\n",
    "f['scenes'][0]"
   ]
  },
  {
   "cell_type": "code",
   "execution_count": 43,
   "metadata": {
    "collapsed": false
   },
   "outputs": [
    {
     "data": {
      "text/plain": [
       "<HDF5 object reference>"
      ]
     },
     "execution_count": 43,
     "metadata": {},
     "output_type": "execute_result"
    }
   ],
   "source": [
    "f['sceneTypes'][0][6]"
   ]
  },
  {
   "cell_type": "code",
   "execution_count": 235,
   "metadata": {
    "collapsed": false
   },
   "outputs": [
    {
     "name": "stdout",
     "output_type": "stream",
     "text": [
      "kitchen_0004\n",
      "kitchen_0004\n",
      "office_0003\n",
      "office_0003\n",
      "office_0004\n",
      "office_0004\n",
      "office_0004\n",
      "office_0004\n",
      "office_0005\n",
      "office_0006\n"
     ]
    }
   ],
   "source": [
    "for i in xrange(10):\n",
    "    test = f['scenes']\n",
    "    st = test[0][i]\n",
    "    obj = f[st]\n",
    "    str1 = ''.join(chr(i) for i in obj[:])\n",
    "    print str1 "
   ]
  },
  {
   "cell_type": "code",
   "execution_count": 236,
   "metadata": {
    "collapsed": false
   },
   "outputs": [
    {
     "name": "stdout",
     "output_type": "stream",
     "text": [
      "office\n",
      "office\n",
      "office\n",
      "office\n",
      "office\n"
     ]
    }
   ],
   "source": [
    "for i in xrange(5):\n",
    "    test = f['sceneTypes']\n",
    "    st = test[0][2]\n",
    "    obj = f[st]\n",
    "    str1 = ''.join(chr(i) for i in obj[:])\n",
    "    print str1 "
   ]
  },
  {
   "cell_type": "markdown",
   "metadata": {
    "collapsed": true
   },
   "source": [
    "## Check the guta meta data"
   ]
  },
  {
   "cell_type": "markdown",
   "metadata": {},
   "source": [
    "## In total 894 classes of objects, map them to 40 classes in classmap40"
   ]
  },
  {
   "cell_type": "code",
   "execution_count": 66,
   "metadata": {
    "collapsed": false
   },
   "outputs": [],
   "source": [
    "classMap04 = sio.loadmat(nyud_dir+'data/benchmarkData//metadata/classMapping04.mat')\n",
    "classMap40 = sio.loadmat(nyud_dir+'data/benchmarkData/metadata/classMapping40.mat')\n",
    "nyusplits = sio.loadmat(nyud_dir+'data/benchmarkData/metadata/nyusplits.mat')\n",
    "sceneMap = sio.loadmat(nyud_dir+'data/benchmarkData/metadata/sceneMapping10.mat')\n"
   ]
  },
  {
   "cell_type": "code",
   "execution_count": 68,
   "metadata": {
    "collapsed": false
   },
   "outputs": [
    {
     "data": {
      "text/plain": [
       "['mapToNYUSuperClassMat',\n",
       " '__header__',\n",
       " '__globals__',\n",
       " 'className',\n",
       " 'mapToNYUSuperClass',\n",
       " 'mapClass',\n",
       " '__version__',\n",
       " 'allClassName']"
      ]
     },
     "execution_count": 68,
     "metadata": {},
     "output_type": "execute_result"
    }
   ],
   "source": [
    "classMap04.keys()"
   ]
  },
  {
   "cell_type": "code",
   "execution_count": 228,
   "metadata": {
    "collapsed": false
   },
   "outputs": [
    {
     "data": {
      "text/plain": [
       "['mapToNYUSuperClassMat',\n",
       " '__header__',\n",
       " '__globals__',\n",
       " 'className',\n",
       " 'mapToNYUSuperClass',\n",
       " 'mapClass',\n",
       " '__version__',\n",
       " 'allClassName']"
      ]
     },
     "execution_count": 228,
     "metadata": {},
     "output_type": "execute_result"
    }
   ],
   "source": [
    "classMap40.keys()"
   ]
  },
  {
   "cell_type": "code",
   "execution_count": 234,
   "metadata": {
    "collapsed": false
   },
   "outputs": [
    {
     "data": {
      "text/plain": [
       "array([[2, 1, 3, 3, 3, 3, 3, 2, 2, 3, 4, 2, 2, 3, 3, 2, 3, 4, 4, 4, 4, 2,\n",
       "        4, 3, 4, 4, 4, 2, 4, 2, 4, 3, 3, 4, 4, 3, 4, 2, 3, 4]], dtype=uint8)"
      ]
     },
     "execution_count": 234,
     "metadata": {},
     "output_type": "execute_result"
    }
   ],
   "source": [
    "classMap40['mapToNYUSuperClass']"
   ]
  },
  {
   "cell_type": "code",
   "execution_count": 237,
   "metadata": {
    "collapsed": false
   },
   "outputs": [
    {
     "data": {
      "text/plain": [
       "(1, 894)"
      ]
     },
     "execution_count": 237,
     "metadata": {},
     "output_type": "execute_result"
    }
   ],
   "source": [
    "classMap40['allClassName'].shape"
   ]
  },
  {
   "cell_type": "code",
   "execution_count": 131,
   "metadata": {
    "collapsed": false
   },
   "outputs": [
    {
     "data": {
      "text/plain": [
       "(1, 894)"
      ]
     },
     "execution_count": 131,
     "metadata": {},
     "output_type": "execute_result"
    }
   ],
   "source": [
    "classMap40['allClassName'].shape\n"
   ]
  },
  {
   "cell_type": "code",
   "execution_count": 76,
   "metadata": {
    "collapsed": false
   },
   "outputs": [
    {
     "data": {
      "text/plain": [
       "{'__globals__': [],\n",
       " '__header__': 'MATLAB 5.0 MAT-file, Platform: GLNXA64, Created on: Sun Mar 10 22:18:44 2013',\n",
       " '__version__': '1.0',\n",
       " 'test': array([[5001, 5002, 5009, 5014, 5015, 5016, 5017, 5018, 5021, 5028, 5029,\n",
       "         5030, 5031, 5032, 5033, 5034, 5035, 5036, 5037, 5038, 5039, 5040,\n",
       "         5041, 5042, 5043, 5046, 5047, 5056, 5057, 5059, 5060, 5061, 5062,\n",
       "         5063, 5076, 5077, 5078, 5079, 5084, 5085, 5086, 5087, 5088, 5089,\n",
       "         5090, 5091, 5117, 5118, 5119, 5125, 5126, 5127, 5128, 5129, 5131,\n",
       "         5132, 5133, 5134, 5137, 5153, 5154, 5155, 5167, 5168, 5169, 5171,\n",
       "         5172, 5173, 5174, 5175, 5176, 5180, 5181, 5182, 5183, 5184, 5185,\n",
       "         5186, 5187, 5188, 5189, 5190, 5191, 5192, 5193, 5194, 5195, 5196,\n",
       "         5197, 5198, 5199, 5200, 5201, 5202, 5207, 5208, 5209, 5210, 5211,\n",
       "         5212, 5220, 5221, 5222, 5250, 5264, 5271, 5272, 5273, 5279, 5280,\n",
       "         5281, 5282, 5283, 5284, 5285, 5296, 5297, 5298, 5299, 5300, 5301,\n",
       "         5302, 5310, 5311, 5312, 5315, 5316, 5317, 5325, 5326, 5327, 5328,\n",
       "         5329, 5330, 5331, 5332, 5333, 5334, 5335, 5351, 5352, 5355, 5356,\n",
       "         5357, 5358, 5359, 5360, 5361, 5362, 5363, 5364, 5384, 5385, 5386,\n",
       "         5387, 5388, 5389, 5390, 5395, 5396, 5397, 5411, 5412, 5413, 5414,\n",
       "         5430, 5431, 5432, 5433, 5434, 5435, 5441, 5442, 5443, 5444, 5445,\n",
       "         5446, 5447, 5448, 5462, 5463, 5464, 5465, 5466, 5469, 5470, 5471,\n",
       "         5472, 5473, 5474, 5475, 5476, 5477, 5508, 5509, 5510, 5511, 5512,\n",
       "         5513, 5515, 5516, 5517, 5518, 5519, 5520, 5521, 5522, 5523, 5524,\n",
       "         5525, 5526, 5531, 5532, 5533, 5537, 5538, 5539, 5549, 5550, 5551,\n",
       "         5555, 5556, 5557, 5558, 5559, 5560, 5561, 5562, 5563, 5564, 5565,\n",
       "         5566, 5567, 5568, 5569, 5570, 5571, 5579, 5580, 5581, 5582, 5583,\n",
       "         5591, 5592, 5593, 5594, 5603, 5604, 5605, 5606, 5607, 5612, 5613,\n",
       "         5617, 5618, 5619, 5620, 5621, 5633, 5634, 5635, 5636, 5637, 5638,\n",
       "         5644, 5645, 5650, 5651, 5656, 5657, 5658, 5663, 5664, 5668, 5669,\n",
       "         5670, 5671, 5672, 5673, 5676, 5677, 5678, 5679, 5680, 5681, 5686,\n",
       "         5687, 5688, 5689, 5690, 5693, 5694, 5697, 5698, 5699, 5706, 5707,\n",
       "         5708, 5709, 5710, 5711, 5712, 5713, 5717, 5718, 5724, 5725, 5726,\n",
       "         5727, 5728, 5731, 5732, 5733, 5734, 5743, 5744, 5759, 5760, 5761,\n",
       "         5762, 5763, 5764, 5765, 5766, 5767, 5768, 5769, 5770, 5771, 5772,\n",
       "         5773, 5774, 5775, 5776, 5777, 5778, 5779, 5780, 5781, 5782, 5783,\n",
       "         5784, 5785, 5786, 5787, 5800, 5801, 5802, 5803, 5804, 5810, 5811,\n",
       "         5812, 5813, 5814, 5821, 5822, 5823, 5833, 5834, 5835, 5836, 5837,\n",
       "         5838, 5839, 5840, 5841, 5842, 5843, 5844, 5845, 5846, 5850, 5851,\n",
       "         5852, 5857, 5858, 5859, 5860, 5861, 5862, 5869, 5870, 5871, 5906,\n",
       "         5907, 5908, 5917, 5918, 5919, 5926, 5927, 5928, 5932, 5933, 5934,\n",
       "         5935, 5945, 5946, 5947, 5959, 5960, 5961, 5962, 5965, 5966, 5967,\n",
       "         5970, 5971, 5972, 5973, 5974, 5975, 5976, 5977, 5991, 5992, 5993,\n",
       "         5994, 5995, 6001, 6002, 6003, 6004, 6010, 6011, 6012, 6021, 6022,\n",
       "         6023, 6032, 6033, 6034, 6038, 6039, 6048, 6049, 6052, 6053, 6057,\n",
       "         6058, 6075, 6076, 6077, 6078, 6079, 6080, 6081, 6082, 6083, 6084,\n",
       "         6088, 6089, 6090, 6091, 6092, 6093, 6094, 6095, 6096, 6098, 6099,\n",
       "         6100, 6101, 6102, 6103, 6104, 6106, 6107, 6108, 6109, 6117, 6118,\n",
       "         6119, 6123, 6124, 6125, 6126, 6127, 6128, 6129, 6130, 6131, 6135,\n",
       "         6136, 6144, 6145, 6146, 6147, 6148, 6149, 6150, 6151, 6152, 6153,\n",
       "         6154, 6155, 6156, 6157, 6158, 6162, 6163, 6164, 6165, 6166, 6167,\n",
       "         6170, 6171, 6174, 6175, 6176, 6179, 6180, 6181, 6182, 6183, 6184,\n",
       "         6192, 6193, 6194, 6195, 6196, 6201, 6202, 6203, 6204, 6205, 6206,\n",
       "         6207, 6208, 6209, 6210, 6211, 6212, 6216, 6217, 6218, 6219, 6220,\n",
       "         6226, 6227, 6228, 6229, 6230, 6233, 6234, 6235, 6247, 6248, 6249,\n",
       "         6250, 6254, 6255, 6256, 6257, 6258, 6259, 6260, 6261, 6262, 6263,\n",
       "         6264, 6265, 6275, 6276, 6277, 6278, 6279, 6280, 6285, 6286, 6287,\n",
       "         6288, 6289, 6290, 6291, 6292, 6293, 6294, 6295, 6297, 6298, 6299,\n",
       "         6302, 6303, 6304, 6305, 6306, 6307, 6308, 6314, 6315, 6329, 6330,\n",
       "         6331, 6332, 6335, 6336, 6337, 6338, 6339, 6340, 6347, 6348, 6349,\n",
       "         6353, 6354, 6355, 6356, 6364, 6365, 6368, 6369, 6384, 6385, 6386,\n",
       "         6387, 6388, 6389, 6390, 6391, 6394, 6395, 6396, 6397, 6398, 6399,\n",
       "         6400, 6401, 6407, 6408, 6409, 6410, 6411, 6412, 6413, 6414, 6421,\n",
       "         6422, 6423, 6424, 6430, 6431, 6432, 6433, 6441, 6442, 6443, 6444,\n",
       "         6445, 6446, 6447, 6448, 6449]], dtype=uint16),\n",
       " 'train': array([[5003, 5004, 5005, 5006, 5007, 5008, 5019, 5020, 5044, 5045, 5058,\n",
       "         5080, 5081, 5082, 5083, 5120, 5121, 5122, 5123, 5124, 5135, 5136,\n",
       "         5156, 5157, 5158, 5159, 5160, 5161, 5162, 5163, 5164, 5165, 5166,\n",
       "         5177, 5178, 5179, 5213, 5214, 5215, 5216, 5217, 5218, 5219, 5251,\n",
       "         5252, 5253, 5254, 5255, 5256, 5257, 5258, 5259, 5260, 5261, 5262,\n",
       "         5263, 5274, 5275, 5276, 5277, 5278, 5303, 5304, 5305, 5306, 5307,\n",
       "         5308, 5309, 5318, 5319, 5320, 5321, 5322, 5323, 5324, 5353, 5354,\n",
       "         5391, 5392, 5393, 5394, 5415, 5416, 5417, 5418, 5419, 5420, 5421,\n",
       "         5422, 5423, 5424, 5425, 5426, 5427, 5428, 5429, 5449, 5450, 5451,\n",
       "         5452, 5453, 5454, 5455, 5456, 5457, 5458, 5459, 5460, 5461, 5478,\n",
       "         5479, 5480, 5481, 5482, 5483, 5484, 5485, 5486, 5487, 5488, 5489,\n",
       "         5490, 5491, 5492, 5493, 5494, 5495, 5496, 5497, 5498, 5499, 5500,\n",
       "         5501, 5502, 5503, 5504, 5505, 5506, 5507, 5527, 5528, 5529, 5530,\n",
       "         5540, 5541, 5542, 5543, 5544, 5545, 5546, 5547, 5548, 5572, 5573,\n",
       "         5574, 5575, 5576, 5577, 5578, 5595, 5596, 5597, 5598, 5599, 5600,\n",
       "         5601, 5602, 5614, 5615, 5616, 5639, 5640, 5641, 5642, 5643, 5652,\n",
       "         5653, 5654, 5655, 5665, 5666, 5667, 5682, 5683, 5684, 5685, 5695,\n",
       "         5696, 5714, 5715, 5716, 5729, 5730, 5745, 5746, 5747, 5748, 5749,\n",
       "         5750, 5751, 5752, 5753, 5754, 5755, 5756, 5757, 5758, 5805, 5806,\n",
       "         5807, 5808, 5809, 5824, 5825, 5826, 5827, 5828, 5829, 5830, 5831,\n",
       "         5832, 5853, 5854, 5855, 5856, 5872, 5873, 5874, 5875, 5876, 5877,\n",
       "         5878, 5879, 5880, 5881, 5882, 5883, 5884, 5885, 5886, 5887, 5888,\n",
       "         5889, 5890, 5891, 5892, 5893, 5894, 5895, 5896, 5897, 5898, 5899,\n",
       "         5900, 5901, 5902, 5903, 5904, 5905, 5920, 5921, 5922, 5923, 5924,\n",
       "         5925, 5936, 5937, 5938, 5939, 5940, 5941, 5942, 5943, 5944, 5963,\n",
       "         5964, 5978, 5979, 5980, 5981, 5982, 5983, 5984, 5985, 5986, 5987,\n",
       "         5988, 5989, 5990, 6005, 6006, 6007, 6008, 6009, 6024, 6025, 6026,\n",
       "         6027, 6028, 6029, 6030, 6031, 6040, 6041, 6042, 6043, 6044, 6045,\n",
       "         6046, 6047, 6054, 6055, 6056, 6085, 6086, 6087, 6105, 6120, 6121,\n",
       "         6122, 6137, 6138, 6139, 6140, 6141, 6142, 6143, 6168, 6169, 6177,\n",
       "         6178, 6197, 6198, 6199, 6200, 6221, 6222, 6223, 6224, 6225, 6236,\n",
       "         6237, 6238, 6239, 6240, 6241, 6242, 6243, 6244, 6245, 6246, 6266,\n",
       "         6267, 6268, 6269, 6270, 6271, 6272, 6273, 6274, 6296, 6309, 6310,\n",
       "         6311, 6312, 6313, 6333, 6334, 6350, 6351, 6352, 6366, 6367, 6392,\n",
       "         6393, 6415, 6416, 6417, 6418, 6419, 6420]], dtype=uint16),\n",
       " 'train1': array([[5003, 5004, 5005, 5006, 5007, 5008, 5044, 5045, 5080, 5081, 5082,\n",
       "         5083, 5135, 5136, 5177, 5178, 5179, 5251, 5252, 5253, 5254, 5255,\n",
       "         5256, 5257, 5258, 5259, 5260, 5261, 5262, 5263, 5303, 5304, 5305,\n",
       "         5306, 5307, 5308, 5309, 5353, 5354, 5415, 5416, 5417, 5418, 5419,\n",
       "         5420, 5421, 5422, 5423, 5424, 5425, 5426, 5427, 5428, 5429, 5478,\n",
       "         5479, 5480, 5481, 5482, 5483, 5484, 5485, 5486, 5487, 5488, 5489,\n",
       "         5490, 5491, 5492, 5493, 5494, 5495, 5496, 5497, 5498, 5499, 5500,\n",
       "         5501, 5502, 5503, 5504, 5505, 5506, 5507, 5540, 5541, 5542, 5543,\n",
       "         5544, 5545, 5546, 5547, 5548, 5595, 5596, 5597, 5598, 5599, 5600,\n",
       "         5601, 5602, 5639, 5640, 5641, 5642, 5643, 5665, 5666, 5667, 5695,\n",
       "         5696, 5729, 5730, 5805, 5806, 5807, 5808, 5809, 5853, 5854, 5855,\n",
       "         5856, 5920, 5921, 5922, 5923, 5924, 5925, 5963, 5964, 6005, 6006,\n",
       "         6007, 6008, 6009, 6040, 6041, 6042, 6043, 6044, 6045, 6046, 6047,\n",
       "         6085, 6086, 6087, 6120, 6121, 6122, 6168, 6169, 6197, 6198, 6199,\n",
       "         6200, 6236, 6237, 6238, 6239, 6240, 6241, 6242, 6243, 6244, 6245,\n",
       "         6246, 6296, 6333, 6334, 6366, 6367, 6415, 6416, 6417, 6418, 6419,\n",
       "         6420]], dtype=uint16),\n",
       " 'train2': array([[5019, 5020, 5058, 5120, 5121, 5122, 5123, 5124, 5156, 5157, 5158,\n",
       "         5159, 5160, 5161, 5162, 5163, 5164, 5165, 5166, 5213, 5214, 5215,\n",
       "         5216, 5217, 5218, 5219, 5274, 5275, 5276, 5277, 5278, 5318, 5319,\n",
       "         5320, 5321, 5322, 5323, 5324, 5391, 5392, 5393, 5394, 5449, 5450,\n",
       "         5451, 5452, 5453, 5454, 5455, 5456, 5457, 5458, 5459, 5460, 5461,\n",
       "         5527, 5528, 5529, 5530, 5572, 5573, 5574, 5575, 5576, 5577, 5578,\n",
       "         5614, 5615, 5616, 5652, 5653, 5654, 5655, 5682, 5683, 5684, 5685,\n",
       "         5714, 5715, 5716, 5745, 5746, 5747, 5748, 5749, 5750, 5751, 5752,\n",
       "         5753, 5754, 5755, 5756, 5757, 5758, 5824, 5825, 5826, 5827, 5828,\n",
       "         5829, 5830, 5831, 5832, 5872, 5873, 5874, 5875, 5876, 5877, 5878,\n",
       "         5879, 5880, 5881, 5882, 5883, 5884, 5885, 5886, 5887, 5888, 5889,\n",
       "         5890, 5891, 5892, 5893, 5894, 5895, 5896, 5897, 5898, 5899, 5900,\n",
       "         5901, 5902, 5903, 5904, 5905, 5936, 5937, 5938, 5939, 5940, 5941,\n",
       "         5942, 5943, 5944, 5978, 5979, 5980, 5981, 5982, 5983, 5984, 5985,\n",
       "         5986, 5987, 5988, 5989, 5990, 6024, 6025, 6026, 6027, 6028, 6029,\n",
       "         6030, 6031, 6054, 6055, 6056, 6105, 6137, 6138, 6139, 6140, 6141,\n",
       "         6142, 6143, 6177, 6178, 6221, 6222, 6223, 6224, 6225, 6266, 6267,\n",
       "         6268, 6269, 6270, 6271, 6272, 6273, 6274, 6309, 6310, 6311, 6312,\n",
       "         6313, 6350, 6351, 6352, 6392, 6393]], dtype=uint16),\n",
       " 'trainval': array([[5003, 5004, 5005, 5006, 5007, 5008, 5010, 5011, 5012, 5013, 5019,\n",
       "         5020, 5022, 5023, 5024, 5025, 5026, 5027, 5044, 5045, 5048, 5049,\n",
       "         5050, 5051, 5052, 5053, 5054, 5055, 5058, 5064, 5065, 5066, 5067,\n",
       "         5068, 5069, 5070, 5071, 5072, 5073, 5074, 5075, 5080, 5081, 5082,\n",
       "         5083, 5092, 5093, 5094, 5095, 5096, 5097, 5098, 5099, 5100, 5101,\n",
       "         5102, 5103, 5104, 5105, 5106, 5107, 5108, 5109, 5110, 5111, 5112,\n",
       "         5113, 5114, 5115, 5116, 5120, 5121, 5122, 5123, 5124, 5130, 5135,\n",
       "         5136, 5138, 5139, 5140, 5141, 5142, 5143, 5144, 5145, 5146, 5147,\n",
       "         5148, 5149, 5150, 5151, 5152, 5156, 5157, 5158, 5159, 5160, 5161,\n",
       "         5162, 5163, 5164, 5165, 5166, 5170, 5177, 5178, 5179, 5203, 5204,\n",
       "         5205, 5206, 5213, 5214, 5215, 5216, 5217, 5218, 5219, 5223, 5224,\n",
       "         5225, 5226, 5227, 5228, 5229, 5230, 5231, 5232, 5233, 5234, 5235,\n",
       "         5236, 5237, 5238, 5239, 5240, 5241, 5242, 5243, 5244, 5245, 5246,\n",
       "         5247, 5248, 5249, 5251, 5252, 5253, 5254, 5255, 5256, 5257, 5258,\n",
       "         5259, 5260, 5261, 5262, 5263, 5265, 5266, 5267, 5268, 5269, 5270,\n",
       "         5274, 5275, 5276, 5277, 5278, 5286, 5287, 5288, 5289, 5290, 5291,\n",
       "         5292, 5293, 5294, 5295, 5303, 5304, 5305, 5306, 5307, 5308, 5309,\n",
       "         5313, 5314, 5318, 5319, 5320, 5321, 5322, 5323, 5324, 5336, 5337,\n",
       "         5338, 5339, 5340, 5341, 5342, 5343, 5344, 5345, 5346, 5347, 5348,\n",
       "         5349, 5350, 5353, 5354, 5365, 5366, 5367, 5368, 5369, 5370, 5371,\n",
       "         5372, 5373, 5374, 5375, 5376, 5377, 5378, 5379, 5380, 5381, 5382,\n",
       "         5383, 5391, 5392, 5393, 5394, 5398, 5399, 5400, 5401, 5402, 5403,\n",
       "         5404, 5405, 5406, 5407, 5408, 5409, 5410, 5415, 5416, 5417, 5418,\n",
       "         5419, 5420, 5421, 5422, 5423, 5424, 5425, 5426, 5427, 5428, 5429,\n",
       "         5436, 5437, 5438, 5439, 5440, 5449, 5450, 5451, 5452, 5453, 5454,\n",
       "         5455, 5456, 5457, 5458, 5459, 5460, 5461, 5467, 5468, 5478, 5479,\n",
       "         5480, 5481, 5482, 5483, 5484, 5485, 5486, 5487, 5488, 5489, 5490,\n",
       "         5491, 5492, 5493, 5494, 5495, 5496, 5497, 5498, 5499, 5500, 5501,\n",
       "         5502, 5503, 5504, 5505, 5506, 5507, 5514, 5527, 5528, 5529, 5530,\n",
       "         5534, 5535, 5536, 5540, 5541, 5542, 5543, 5544, 5545, 5546, 5547,\n",
       "         5548, 5552, 5553, 5554, 5572, 5573, 5574, 5575, 5576, 5577, 5578,\n",
       "         5584, 5585, 5586, 5587, 5588, 5589, 5590, 5595, 5596, 5597, 5598,\n",
       "         5599, 5600, 5601, 5602, 5608, 5609, 5610, 5611, 5614, 5615, 5616,\n",
       "         5622, 5623, 5624, 5625, 5626, 5627, 5628, 5629, 5630, 5631, 5632,\n",
       "         5639, 5640, 5641, 5642, 5643, 5646, 5647, 5648, 5649, 5652, 5653,\n",
       "         5654, 5655, 5659, 5660, 5661, 5662, 5665, 5666, 5667, 5674, 5675,\n",
       "         5682, 5683, 5684, 5685, 5691, 5692, 5695, 5696, 5700, 5701, 5702,\n",
       "         5703, 5704, 5705, 5714, 5715, 5716, 5719, 5720, 5721, 5722, 5723,\n",
       "         5729, 5730, 5735, 5736, 5737, 5738, 5739, 5740, 5741, 5742, 5745,\n",
       "         5746, 5747, 5748, 5749, 5750, 5751, 5752, 5753, 5754, 5755, 5756,\n",
       "         5757, 5758, 5788, 5789, 5790, 5791, 5792, 5793, 5794, 5795, 5796,\n",
       "         5797, 5798, 5799, 5805, 5806, 5807, 5808, 5809, 5815, 5816, 5817,\n",
       "         5818, 5819, 5820, 5824, 5825, 5826, 5827, 5828, 5829, 5830, 5831,\n",
       "         5832, 5847, 5848, 5849, 5853, 5854, 5855, 5856, 5863, 5864, 5865,\n",
       "         5866, 5867, 5868, 5872, 5873, 5874, 5875, 5876, 5877, 5878, 5879,\n",
       "         5880, 5881, 5882, 5883, 5884, 5885, 5886, 5887, 5888, 5889, 5890,\n",
       "         5891, 5892, 5893, 5894, 5895, 5896, 5897, 5898, 5899, 5900, 5901,\n",
       "         5902, 5903, 5904, 5905, 5909, 5910, 5911, 5912, 5913, 5914, 5915,\n",
       "         5916, 5920, 5921, 5922, 5923, 5924, 5925, 5929, 5930, 5931, 5936,\n",
       "         5937, 5938, 5939, 5940, 5941, 5942, 5943, 5944, 5948, 5949, 5950,\n",
       "         5951, 5952, 5953, 5954, 5955, 5956, 5957, 5958, 5963, 5964, 5968,\n",
       "         5969, 5978, 5979, 5980, 5981, 5982, 5983, 5984, 5985, 5986, 5987,\n",
       "         5988, 5989, 5990, 5996, 5997, 5998, 5999, 6000, 6005, 6006, 6007,\n",
       "         6008, 6009, 6013, 6014, 6015, 6016, 6017, 6018, 6019, 6020, 6024,\n",
       "         6025, 6026, 6027, 6028, 6029, 6030, 6031, 6035, 6036, 6037, 6040,\n",
       "         6041, 6042, 6043, 6044, 6045, 6046, 6047, 6050, 6051, 6054, 6055,\n",
       "         6056, 6059, 6060, 6061, 6062, 6063, 6064, 6065, 6066, 6067, 6068,\n",
       "         6069, 6070, 6071, 6072, 6073, 6074, 6085, 6086, 6087, 6097, 6105,\n",
       "         6110, 6111, 6112, 6113, 6114, 6115, 6116, 6120, 6121, 6122, 6132,\n",
       "         6133, 6134, 6137, 6138, 6139, 6140, 6141, 6142, 6143, 6159, 6160,\n",
       "         6161, 6168, 6169, 6172, 6173, 6177, 6178, 6185, 6186, 6187, 6188,\n",
       "         6189, 6190, 6191, 6197, 6198, 6199, 6200, 6213, 6214, 6215, 6221,\n",
       "         6222, 6223, 6224, 6225, 6231, 6232, 6236, 6237, 6238, 6239, 6240,\n",
       "         6241, 6242, 6243, 6244, 6245, 6246, 6251, 6252, 6253, 6266, 6267,\n",
       "         6268, 6269, 6270, 6271, 6272, 6273, 6274, 6281, 6282, 6283, 6284,\n",
       "         6296, 6300, 6301, 6309, 6310, 6311, 6312, 6313, 6316, 6317, 6318,\n",
       "         6319, 6320, 6321, 6322, 6323, 6324, 6325, 6326, 6327, 6328, 6333,\n",
       "         6334, 6341, 6342, 6343, 6344, 6345, 6346, 6350, 6351, 6352, 6357,\n",
       "         6358, 6359, 6360, 6361, 6362, 6363, 6366, 6367, 6370, 6371, 6372,\n",
       "         6373, 6374, 6375, 6376, 6377, 6378, 6379, 6380, 6381, 6382, 6383,\n",
       "         6392, 6393, 6402, 6403, 6404, 6405, 6406, 6415, 6416, 6417, 6418,\n",
       "         6419, 6420, 6425, 6426, 6427, 6428, 6429, 6434, 6435, 6436, 6437,\n",
       "         6438, 6439, 6440]], dtype=uint16),\n",
       " 'val': array([[5010, 5011, 5012, 5013, 5022, 5023, 5024, 5025, 5026, 5027, 5048,\n",
       "         5049, 5050, 5051, 5052, 5053, 5054, 5055, 5064, 5065, 5066, 5067,\n",
       "         5068, 5069, 5070, 5071, 5072, 5073, 5074, 5075, 5092, 5093, 5094,\n",
       "         5095, 5096, 5097, 5098, 5099, 5100, 5101, 5102, 5103, 5104, 5105,\n",
       "         5106, 5107, 5108, 5109, 5110, 5111, 5112, 5113, 5114, 5115, 5116,\n",
       "         5130, 5138, 5139, 5140, 5141, 5142, 5143, 5144, 5145, 5146, 5147,\n",
       "         5148, 5149, 5150, 5151, 5152, 5170, 5203, 5204, 5205, 5206, 5223,\n",
       "         5224, 5225, 5226, 5227, 5228, 5229, 5230, 5231, 5232, 5233, 5234,\n",
       "         5235, 5236, 5237, 5238, 5239, 5240, 5241, 5242, 5243, 5244, 5245,\n",
       "         5246, 5247, 5248, 5249, 5265, 5266, 5267, 5268, 5269, 5270, 5286,\n",
       "         5287, 5288, 5289, 5290, 5291, 5292, 5293, 5294, 5295, 5313, 5314,\n",
       "         5336, 5337, 5338, 5339, 5340, 5341, 5342, 5343, 5344, 5345, 5346,\n",
       "         5347, 5348, 5349, 5350, 5365, 5366, 5367, 5368, 5369, 5370, 5371,\n",
       "         5372, 5373, 5374, 5375, 5376, 5377, 5378, 5379, 5380, 5381, 5382,\n",
       "         5383, 5398, 5399, 5400, 5401, 5402, 5403, 5404, 5405, 5406, 5407,\n",
       "         5408, 5409, 5410, 5436, 5437, 5438, 5439, 5440, 5467, 5468, 5514,\n",
       "         5534, 5535, 5536, 5552, 5553, 5554, 5584, 5585, 5586, 5587, 5588,\n",
       "         5589, 5590, 5608, 5609, 5610, 5611, 5622, 5623, 5624, 5625, 5626,\n",
       "         5627, 5628, 5629, 5630, 5631, 5632, 5646, 5647, 5648, 5649, 5659,\n",
       "         5660, 5661, 5662, 5674, 5675, 5691, 5692, 5700, 5701, 5702, 5703,\n",
       "         5704, 5705, 5719, 5720, 5721, 5722, 5723, 5735, 5736, 5737, 5738,\n",
       "         5739, 5740, 5741, 5742, 5788, 5789, 5790, 5791, 5792, 5793, 5794,\n",
       "         5795, 5796, 5797, 5798, 5799, 5815, 5816, 5817, 5818, 5819, 5820,\n",
       "         5847, 5848, 5849, 5863, 5864, 5865, 5866, 5867, 5868, 5909, 5910,\n",
       "         5911, 5912, 5913, 5914, 5915, 5916, 5929, 5930, 5931, 5948, 5949,\n",
       "         5950, 5951, 5952, 5953, 5954, 5955, 5956, 5957, 5958, 5968, 5969,\n",
       "         5996, 5997, 5998, 5999, 6000, 6013, 6014, 6015, 6016, 6017, 6018,\n",
       "         6019, 6020, 6035, 6036, 6037, 6050, 6051, 6059, 6060, 6061, 6062,\n",
       "         6063, 6064, 6065, 6066, 6067, 6068, 6069, 6070, 6071, 6072, 6073,\n",
       "         6074, 6097, 6110, 6111, 6112, 6113, 6114, 6115, 6116, 6132, 6133,\n",
       "         6134, 6159, 6160, 6161, 6172, 6173, 6185, 6186, 6187, 6188, 6189,\n",
       "         6190, 6191, 6213, 6214, 6215, 6231, 6232, 6251, 6252, 6253, 6281,\n",
       "         6282, 6283, 6284, 6300, 6301, 6316, 6317, 6318, 6319, 6320, 6321,\n",
       "         6322, 6323, 6324, 6325, 6326, 6327, 6328, 6341, 6342, 6343, 6344,\n",
       "         6345, 6346, 6357, 6358, 6359, 6360, 6361, 6362, 6363, 6370, 6371,\n",
       "         6372, 6373, 6374, 6375, 6376, 6377, 6378, 6379, 6380, 6381, 6382,\n",
       "         6383, 6402, 6403, 6404, 6405, 6406, 6425, 6426, 6427, 6428, 6429,\n",
       "         6434, 6435, 6436, 6437, 6438, 6439, 6440]], dtype=uint16),\n",
       " 'val1': array([[5010, 5011, 5012, 5013, 5048, 5049, 5050, 5051, 5052, 5053, 5054,\n",
       "         5055, 5092, 5093, 5094, 5095, 5096, 5097, 5098, 5099, 5100, 5101,\n",
       "         5102, 5103, 5104, 5105, 5106, 5107, 5108, 5109, 5110, 5111, 5112,\n",
       "         5113, 5114, 5115, 5116, 5138, 5139, 5140, 5141, 5142, 5143, 5144,\n",
       "         5145, 5146, 5147, 5148, 5149, 5150, 5151, 5152, 5203, 5204, 5205,\n",
       "         5206, 5265, 5266, 5267, 5268, 5269, 5270, 5313, 5314, 5365, 5366,\n",
       "         5367, 5368, 5369, 5370, 5371, 5372, 5373, 5374, 5375, 5376, 5377,\n",
       "         5378, 5379, 5380, 5381, 5382, 5383, 5436, 5437, 5438, 5439, 5440,\n",
       "         5514, 5552, 5553, 5554, 5608, 5609, 5610, 5611, 5646, 5647, 5648,\n",
       "         5649, 5674, 5675, 5700, 5701, 5702, 5703, 5704, 5705, 5735, 5736,\n",
       "         5737, 5738, 5739, 5740, 5741, 5742, 5815, 5816, 5817, 5818, 5819,\n",
       "         5820, 5863, 5864, 5865, 5866, 5867, 5868, 5929, 5930, 5931, 5968,\n",
       "         5969, 6013, 6014, 6015, 6016, 6017, 6018, 6019, 6020, 6050, 6051,\n",
       "         6097, 6132, 6133, 6134, 6172, 6173, 6213, 6214, 6215, 6251, 6252,\n",
       "         6253, 6300, 6301, 6341, 6342, 6343, 6344, 6345, 6346, 6370, 6371,\n",
       "         6372, 6373, 6374, 6375, 6376, 6377, 6378, 6379, 6380, 6381, 6382,\n",
       "         6383, 6425, 6426, 6427, 6428, 6429]], dtype=uint16),\n",
       " 'val2': array([[5022, 5023, 5024, 5025, 5026, 5027, 5064, 5065, 5066, 5067, 5068,\n",
       "         5069, 5070, 5071, 5072, 5073, 5074, 5075, 5130, 5170, 5223, 5224,\n",
       "         5225, 5226, 5227, 5228, 5229, 5230, 5231, 5232, 5233, 5234, 5235,\n",
       "         5236, 5237, 5238, 5239, 5240, 5241, 5242, 5243, 5244, 5245, 5246,\n",
       "         5247, 5248, 5249, 5286, 5287, 5288, 5289, 5290, 5291, 5292, 5293,\n",
       "         5294, 5295, 5336, 5337, 5338, 5339, 5340, 5341, 5342, 5343, 5344,\n",
       "         5345, 5346, 5347, 5348, 5349, 5350, 5398, 5399, 5400, 5401, 5402,\n",
       "         5403, 5404, 5405, 5406, 5407, 5408, 5409, 5410, 5467, 5468, 5534,\n",
       "         5535, 5536, 5584, 5585, 5586, 5587, 5588, 5589, 5590, 5622, 5623,\n",
       "         5624, 5625, 5626, 5627, 5628, 5629, 5630, 5631, 5632, 5659, 5660,\n",
       "         5661, 5662, 5691, 5692, 5719, 5720, 5721, 5722, 5723, 5788, 5789,\n",
       "         5790, 5791, 5792, 5793, 5794, 5795, 5796, 5797, 5798, 5799, 5847,\n",
       "         5848, 5849, 5909, 5910, 5911, 5912, 5913, 5914, 5915, 5916, 5948,\n",
       "         5949, 5950, 5951, 5952, 5953, 5954, 5955, 5956, 5957, 5958, 5996,\n",
       "         5997, 5998, 5999, 6000, 6035, 6036, 6037, 6059, 6060, 6061, 6062,\n",
       "         6063, 6064, 6065, 6066, 6067, 6068, 6069, 6070, 6071, 6072, 6073,\n",
       "         6074, 6110, 6111, 6112, 6113, 6114, 6115, 6116, 6159, 6160, 6161,\n",
       "         6185, 6186, 6187, 6188, 6189, 6190, 6191, 6231, 6232, 6281, 6282,\n",
       "         6283, 6284, 6316, 6317, 6318, 6319, 6320, 6321, 6322, 6323, 6324,\n",
       "         6325, 6326, 6327, 6328, 6357, 6358, 6359, 6360, 6361, 6362, 6363,\n",
       "         6402, 6403, 6404, 6405, 6406, 6434, 6435, 6436, 6437, 6438, 6439,\n",
       "         6440]], dtype=uint16)}"
      ]
     },
     "execution_count": 76,
     "metadata": {},
     "output_type": "execute_result"
    }
   ],
   "source": [
    "nyusplits"
   ]
  },
  {
   "cell_type": "code",
   "execution_count": 77,
   "metadata": {
    "collapsed": false
   },
   "outputs": [
    {
     "data": {
      "text/plain": [
       "{'__globals__': [],\n",
       " '__header__': 'MATLAB 5.0 MAT-file, Platform: GLNXA64, Created on: Mon Apr 15 13:06:49 2013',\n",
       " '__version__': '1.0',\n",
       " 'allSceneName': array([[array([u'basement'], \n",
       "       dtype='<U8'),\n",
       "         array([u'bathroom'], \n",
       "       dtype='<U8'),\n",
       "         array([u'bedroom'], \n",
       "       dtype='<U7'),\n",
       "         array([u'bookstore'], \n",
       "       dtype='<U9'),\n",
       "         array([u'cafe'], \n",
       "       dtype='<U4'),\n",
       "         array([u'classroom'], \n",
       "       dtype='<U9'),\n",
       "         array([u'computer_lab'], \n",
       "       dtype='<U12'),\n",
       "         array([u'conference_room'], \n",
       "       dtype='<U15'),\n",
       "         array([u'dinette'], \n",
       "       dtype='<U7'),\n",
       "         array([u'dining_room'], \n",
       "       dtype='<U11'),\n",
       "         array([u'excercise_room'], \n",
       "       dtype='<U14'),\n",
       "         array([u'foyer'], \n",
       "       dtype='<U5'),\n",
       "         array([u'furniture_store'], \n",
       "       dtype='<U15'),\n",
       "         array([u'home_office'], \n",
       "       dtype='<U11'),\n",
       "         array([u'home_storage'], \n",
       "       dtype='<U12'),\n",
       "         array([u'indoor_balcony'], \n",
       "       dtype='<U14'),\n",
       "         array([u'kitchen'], \n",
       "       dtype='<U7'),\n",
       "         array([u'laundry_room'], \n",
       "       dtype='<U12'),\n",
       "         array([u'living_room'], \n",
       "       dtype='<U11'),\n",
       "         array([u'office'], \n",
       "       dtype='<U6'),\n",
       "         array([u'office_kitchen'], \n",
       "       dtype='<U14'),\n",
       "         array([u'playroom'], \n",
       "       dtype='<U8'),\n",
       "         array([u'printer_room'], \n",
       "       dtype='<U12'),\n",
       "         array([u'reception_room'], \n",
       "       dtype='<U14'),\n",
       "         array([u'student_lounge'], \n",
       "       dtype='<U14'),\n",
       "         array([u'study'], \n",
       "       dtype='<U5'),\n",
       "         array([u'study_room'], \n",
       "       dtype='<U10')]], dtype=object),\n",
       " 'mapScene': array([[10,  4,  1,  9, 10,  8, 10, 10, 10,  5, 10, 10, 10,  7, 10, 10,  2,\n",
       "         10,  3,  6, 10, 10, 10, 10, 10, 10, 10]], dtype=uint8),\n",
       " 'sceneName': array([[array([u'bedroom'], \n",
       "       dtype='<U7'),\n",
       "         array([u'kitchen'], \n",
       "       dtype='<U7'),\n",
       "         array([u'living_room'], \n",
       "       dtype='<U11'),\n",
       "         array([u'bathroom'], \n",
       "       dtype='<U8'),\n",
       "         array([u'dining_room'], \n",
       "       dtype='<U11'),\n",
       "         array([u'office'], \n",
       "       dtype='<U6'),\n",
       "         array([u'home_office'], \n",
       "       dtype='<U11'),\n",
       "         array([u'classroom'], \n",
       "       dtype='<U9'),\n",
       "         array([u'bookstore'], \n",
       "       dtype='<U9'),\n",
       "         array([u'others'], \n",
       "       dtype='<U6')]], dtype=object)}"
      ]
     },
     "execution_count": 77,
     "metadata": {},
     "output_type": "execute_result"
    }
   ],
   "source": [
    "sceneMap"
   ]
  },
  {
   "cell_type": "code",
   "execution_count": 80,
   "metadata": {
    "collapsed": false
   },
   "outputs": [],
   "source": [
    "imgAllScene = sio.loadmat(nyud_dir+'data/benchmarkData/sceneClassification/imgAllScene.mat')"
   ]
  },
  {
   "cell_type": "code",
   "execution_count": 82,
   "metadata": {
    "collapsed": false
   },
   "outputs": [
    {
     "data": {
      "text/plain": [
       "{'__globals__': [],\n",
       " '__header__': 'MATLAB 5.0 MAT-file, Platform: GLNXA64, Created on: Thu Apr  4 11:21:19 2013',\n",
       " '__version__': '1.0',\n",
       " 'gtScene': array([[17, 17, 20, ..., 10, 10, 10]], dtype=uint8),\n",
       " 'sceneName': array([[array([u'basement'], \n",
       "       dtype='<U8'),\n",
       "         array([u'bathroom'], \n",
       "       dtype='<U8'),\n",
       "         array([u'bedroom'], \n",
       "       dtype='<U7'),\n",
       "         array([u'bookstore'], \n",
       "       dtype='<U9'),\n",
       "         array([u'cafe'], \n",
       "       dtype='<U4'),\n",
       "         array([u'classroom'], \n",
       "       dtype='<U9'),\n",
       "         array([u'computer_lab'], \n",
       "       dtype='<U12'),\n",
       "         array([u'conference_room'], \n",
       "       dtype='<U15'),\n",
       "         array([u'dinette'], \n",
       "       dtype='<U7'),\n",
       "         array([u'dining_room'], \n",
       "       dtype='<U11'),\n",
       "         array([u'excercise_room'], \n",
       "       dtype='<U14'),\n",
       "         array([u'foyer'], \n",
       "       dtype='<U5'),\n",
       "         array([u'furniture_store'], \n",
       "       dtype='<U15'),\n",
       "         array([u'home_office'], \n",
       "       dtype='<U11'),\n",
       "         array([u'home_storage'], \n",
       "       dtype='<U12'),\n",
       "         array([u'indoor_balcony'], \n",
       "       dtype='<U14'),\n",
       "         array([u'kitchen'], \n",
       "       dtype='<U7'),\n",
       "         array([u'laundry_room'], \n",
       "       dtype='<U12'),\n",
       "         array([u'living_room'], \n",
       "       dtype='<U11'),\n",
       "         array([u'office'], \n",
       "       dtype='<U6'),\n",
       "         array([u'office_kitchen'], \n",
       "       dtype='<U14'),\n",
       "         array([u'playroom'], \n",
       "       dtype='<U8'),\n",
       "         array([u'printer_room'], \n",
       "       dtype='<U12'),\n",
       "         array([u'reception_room'], \n",
       "       dtype='<U14'),\n",
       "         array([u'student_lounge'], \n",
       "       dtype='<U14'),\n",
       "         array([u'study'], \n",
       "       dtype='<U5'),\n",
       "         array([u'study_room'], \n",
       "       dtype='<U10')]], dtype=object)}"
      ]
     },
     "execution_count": 82,
     "metadata": {},
     "output_type": "execute_result"
    }
   ],
   "source": [
    "imgAllScene"
   ]
  },
  {
   "cell_type": "code",
   "execution_count": 106,
   "metadata": {
    "collapsed": false
   },
   "outputs": [
    {
     "data": {
      "text/plain": [
       "17"
      ]
     },
     "execution_count": 106,
     "metadata": {},
     "output_type": "execute_result"
    }
   ],
   "source": [
    "imgAllScene['gtScene'][0][0]"
   ]
  },
  {
   "cell_type": "markdown",
   "metadata": {},
   "source": [
    "# the label is from 1 to 27\n",
    "# but the string array index is from 0 to  26"
   ]
  },
  {
   "cell_type": "code",
   "execution_count": 3,
   "metadata": {
    "collapsed": true
   },
   "outputs": [],
   "source": [
    "allSceneLabel =sio.loadmat('/home/yongyang/CVProjects/nyud/data/sceneLabel/imgAllScene.mat')"
   ]
  },
  {
   "cell_type": "code",
   "execution_count": 6,
   "metadata": {
    "collapsed": false
   },
   "outputs": [],
   "source": [
    "imgAllScene = sio.loadmat(nyud_dir+'data/benchmarkData/sceneClassification/imgAllScene.mat')"
   ]
  },
  {
   "cell_type": "code",
   "execution_count": 6,
   "metadata": {
    "collapsed": false
   },
   "outputs": [
    {
     "data": {
      "text/plain": [
       "17"
      ]
     },
     "execution_count": 6,
     "metadata": {},
     "output_type": "execute_result"
    }
   ],
   "source": [
    "allSceneLabel['gtScene'][0][int('5001')-5001]"
   ]
  },
  {
   "cell_type": "code",
   "execution_count": 15,
   "metadata": {
    "collapsed": true
   },
   "outputs": [],
   "source": [
    "import pandas as pd\n",
    "import numpy as np"
   ]
  },
  {
   "cell_type": "code",
   "execution_count": 16,
   "metadata": {
    "collapsed": true
   },
   "outputs": [],
   "source": [
    "train_txt = pd.read_csv('/home/yongyang/CVProjects/nyud/data/train.txt',header = None)\n",
    "val_txt = pd.read_csv('/home/yongyang/CVProjects/nyud/data/val.txt',header = None)\n",
    "test_txt = pd.read_csv('/home/yongyang/CVProjects/nyud/data/test.txt',header = None)"
   ]
  },
  {
   "cell_type": "markdown",
   "metadata": {},
   "source": [
    "for  i in range(len(tran_txt)):\n",
    "    train_lists[allSceneLabel['gtScene'][train_txt[i]-5001]].append(train_txt[i])\n",
    "for  i in range(len(val_txt)):\n",
    "    val_lists[allSceneLabel['gtScene'][val_txt[i]-5001]].append(val_txt[i])\n",
    "for  i in range(len(test_txt)):\n",
    "     train_lists[allSceneLabel['gtScene'][train_txt[i]-5001]].append(train_txt[i])"
   ]
  },
  {
   "cell_type": "code",
   "execution_count": 17,
   "metadata": {
    "collapsed": false
   },
   "outputs": [],
   "source": [
    "train_arr = np.zeros(27)\n",
    "val_arr = np.zeros(27)\n",
    "test_arr = np.zeros(27)\n",
    "for  i in range(len(train_txt)):\n",
    "    train_arr[allSceneLabel['gtScene'][0][train_txt[0][i]-5001]-1] +=1\n",
    "for  i in range(len(val_txt)):\n",
    "    val_arr[allSceneLabel['gtScene'][0][val_txt[0][i]-5001]-1] +=1\n",
    "for  i in range(len(test_txt)):\n",
    "    test_arr[allSceneLabel['gtScene'][0][test_txt[0][i]-5001]-1] +=1"
   ]
  },
  {
   "cell_type": "code",
   "execution_count": 18,
   "metadata": {
    "collapsed": false
   },
   "outputs": [
    {
     "data": {
      "text/plain": [
       "23"
      ]
     },
     "execution_count": 18,
     "metadata": {},
     "output_type": "execute_result"
    }
   ],
   "source": [
    "allSceneLabel['gtScene'][0][448]"
   ]
  },
  {
   "cell_type": "code",
   "execution_count": 29,
   "metadata": {
    "collapsed": false
   },
   "outputs": [
    {
     "name": "stdout",
     "output_type": "stream",
     "text": [
      "715\n",
      "[   3.   60.  191.   18.    2.   24.    3.    2.    2.   58.    1.    2.\n",
      "   13.   25.    2.    1.  112.    1.  110.   39.    5.   15.    1.    8.\n",
      "    2.   12.    3.]\n"
     ]
    }
   ],
   "source": [
    "print len(train_txt)\n",
    "print train_arr"
   ]
  },
  {
   "cell_type": "code",
   "execution_count": 26,
   "metadata": {
    "collapsed": false
   },
   "outputs": [
    {
     "name": "stdout",
     "output_type": "stream",
     "text": [
      "359\n",
      "[  2.  30.  96.   9.   1.  12.   1.   1.   1.  29.   1.   1.   7.  12.   1.\n",
      "   0.  56.   1.  55.  19.   2.   8.   1.   4.   1.   6.   2.]\n"
     ]
    }
   ],
   "source": [
    "print len(val_txt)\n",
    "print val_arr"
   ]
  },
  {
   "cell_type": "code",
   "execution_count": 28,
   "metadata": {
    "collapsed": false
   },
   "outputs": [
    {
     "name": "stdout",
     "output_type": "stream",
     "text": [
      "375\n",
      "[  2.  31.  96.   9.   2.  13.   2.   2.   1.  30.   1.   1.   7.  13.   2.\n",
      "   1.  57.   1.  56.  20.   3.   8.   1.   5.   2.   7.   2.]\n"
     ]
    }
   ],
   "source": [
    "print len(test_txt)\n",
    "print test_arr"
   ]
  },
  {
   "cell_type": "code",
   "execution_count": 21,
   "metadata": {
    "collapsed": false
   },
   "outputs": [],
   "source": [
    "all_data = train_arr+val_arr+test_arr"
   ]
  },
  {
   "cell_type": "code",
   "execution_count": 22,
   "metadata": {
    "collapsed": false
   },
   "outputs": [
    {
     "name": "stdout",
     "output_type": "stream",
     "text": [
      "[   7.  121.  383.   36.    5.   49.    6.    5.    4.  117.    3.    4.\n",
      "   27.   50.    5.    2.  225.    3.  221.   78.   10.   31.    3.   17.\n",
      "    5.   25.    7.]\n"
     ]
    }
   ],
   "source": [
    "print all_data"
   ]
  },
  {
   "cell_type": "code",
   "execution_count": 23,
   "metadata": {
    "collapsed": false
   },
   "outputs": [
    {
     "data": {
      "text/plain": [
       "1449.0"
      ]
     },
     "execution_count": 23,
     "metadata": {},
     "output_type": "execute_result"
    }
   ],
   "source": [
    "all_data.sum()"
   ]
  },
  {
   "cell_type": "markdown",
   "metadata": {},
   "source": [
    "# Generate training,validation and test splits"
   ]
  },
  {
   "cell_type": "code",
   "execution_count": 7,
   "metadata": {
    "collapsed": true
   },
   "outputs": [],
   "source": [
    "import pandas as pd"
   ]
  },
  {
   "cell_type": "code",
   "execution_count": 8,
   "metadata": {
    "collapsed": false
   },
   "outputs": [],
   "source": [
    "all_scene_label = allSceneLabel['gtScene'][0]"
   ]
  },
  {
   "cell_type": "code",
   "execution_count": 9,
   "metadata": {
    "collapsed": false
   },
   "outputs": [],
   "source": [
    "distribute_list = []\n",
    "for i in xrange(27):\n",
    "    distribute_list.append([])\n",
    "for i in range(all_scene_label.shape[0]):\n",
    "    distribute_list[all_scene_label[i]-1].append(i)    "
   ]
  },
  {
   "cell_type": "markdown",
   "metadata": {
    "collapsed": false
   },
   "source": [
    "train_list = []\n",
    "val_list = []\n",
    "test_list = []\n",
    "for i in xrange(27):\n",
    "    num  = len(distribute_list[i])\n",
    "    if num > 0:\n",
    "        num_train = (num+1)/2   # 0~num_train assigne to train list\n",
    "        train_list.extend(distribute_list[i][0:num_train])\n",
    "        \n",
    "        num_val = (num-num_train+1)/2     # num_train~(num_train+num_val) assign to val list\n",
    "        if num_val >0:\n",
    "            val_list.extend(distribute_list[i][num_train:num_train+num_val])\n",
    "            test_list.extend(distribute_list[i][num_train+num_val:])  "
   ]
  },
  {
   "cell_type": "code",
   "execution_count": 10,
   "metadata": {
    "collapsed": false
   },
   "outputs": [],
   "source": [
    "#randomly split the train,val,test data for each class\n",
    "import random\n",
    "train_list = []\n",
    "val_list = []\n",
    "test_list = []\n",
    "for i in xrange(27):\n",
    "    num  = len(distribute_list[i])\n",
    "    if num > 0:\n",
    "        random.shuffle(distribute_list[i])\n",
    "        num_train = num/2   # 0~num_train assigne to train list\n",
    "        train_list.extend(distribute_list[i][0:num_train])\n",
    "        num_val = (num-num_train)/2     # num_train~(num_train+num_val) assign to val list\n",
    "        val_list.extend(distribute_list[i][num_train:num_train+num_val])\n",
    "        test_list.extend(distribute_list[i][num_train+num_val:])  "
   ]
  },
  {
   "cell_type": "code",
   "execution_count": 11,
   "metadata": {
    "collapsed": false
   },
   "outputs": [
    {
     "name": "stdout",
     "output_type": "stream",
     "text": [
      "715\n",
      "359\n",
      "375\n"
     ]
    }
   ],
   "source": [
    "print len(train_list)\n",
    "print len(val_list)\n",
    "print len(test_list)"
   ]
  },
  {
   "cell_type": "code",
   "execution_count": 31,
   "metadata": {
    "collapsed": true
   },
   "outputs": [],
   "source": [
    "train_set = np.array(train_list)\n",
    "train_set += 5001\n",
    "val_set = np.array(val_list)\n",
    "val_set += 5001\n",
    "test_set = np.array(test_list)\n",
    "test_set += 5001"
   ]
  },
  {
   "cell_type": "code",
   "execution_count": 32,
   "metadata": {
    "collapsed": false
   },
   "outputs": [],
   "source": [
    "train_pd = pd.DataFrame(train_set)\n",
    "train_pd.to_csv('train.txt',header = False,index = None)\n",
    "train_pd = pd.DataFrame(val_set)\n",
    "train_pd.to_csv('val.txt',header = False,index = None)\n",
    "train_pd = pd.DataFrame(test_set)\n",
    "train_pd.to_csv('test.txt',header = False,index = None)"
   ]
  },
  {
   "cell_type": "code",
   "execution_count": null,
   "metadata": {
    "collapsed": true
   },
   "outputs": [],
   "source": []
  },
  {
   "cell_type": "code",
   "execution_count": null,
   "metadata": {
    "collapsed": true
   },
   "outputs": [],
   "source": []
  },
  {
   "cell_type": "code",
   "execution_count": null,
   "metadata": {
    "collapsed": true
   },
   "outputs": [],
   "source": []
  },
  {
   "cell_type": "code",
   "execution_count": null,
   "metadata": {
    "collapsed": true
   },
   "outputs": [],
   "source": []
  }
 ],
 "metadata": {
  "anaconda-cloud": {},
  "kernelspec": {
   "display_name": "Python [conda root]",
   "language": "python",
   "name": "conda-root-py"
  },
  "language_info": {
   "codemirror_mode": {
    "name": "ipython",
    "version": 2
   },
   "file_extension": ".py",
   "mimetype": "text/x-python",
   "name": "python",
   "nbconvert_exporter": "python",
   "pygments_lexer": "ipython2",
   "version": "2.7.12"
  }
 },
 "nbformat": 4,
 "nbformat_minor": 1
}
