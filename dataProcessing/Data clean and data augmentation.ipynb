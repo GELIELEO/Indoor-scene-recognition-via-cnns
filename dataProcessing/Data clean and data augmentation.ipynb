{
 "cells": [
  {
   "cell_type": "code",
   "execution_count": 3,
   "metadata": {
    "collapsed": true
   },
   "outputs": [],
   "source": [
    "from pylab import *\n",
    "%matplotlib inline\n",
    "import matplotlib.pyplot as plt\n",
    "import sys\n",
    "import caffe\n",
    "import os\n",
    "import PIL\n",
    "import scipy.io as sio\n",
    "import tempfile\n",
    "import numpy as np\n",
    "from PIL import Image"
   ]
  },
  {
   "cell_type": "code",
   "execution_count": 2,
   "metadata": {
    "collapsed": true
   },
   "outputs": [],
   "source": [
    "#nyud_data_root = '/home/yangyong/fcn.berkeleyvision.org/data/nyud'"
   ]
  },
  {
   "cell_type": "code",
   "execution_count": 4,
   "metadata": {
    "collapsed": true
   },
   "outputs": [],
   "source": [
    "import numpy as np\n",
    "from PIL import Image\n",
    "import scipy.io\n",
    "\n",
    "import random\n",
    "\n",
    "mean_bgr = np.array((116.190, 97.203, 92.318), dtype=np.float32)\n",
    "mean_hha = np.array((194.421, 90.766, 126.557), dtype=np.float32)\n",
    "mean_d = np.array((106.768,), dtype=np.float32)\n",
    "\n",
    "def load_sceneLabel(nyud_dir,idx):\n",
    "        \"\"\"\n",
    "        Load scene classification label \n",
    "        \"\"\"\n",
    "        allSceneLabel = scipy.io.loadmat('{}/sceneLabel/imgAllScene.mat'.format(nyud_dir))\n",
    "        scenelabel = allSceneLabel['gtScene'][0][int(idx)-5001]\n",
    "        return np.array([scenelabel])\n",
    "def load_image(nyud_dir, idx):\n",
    "        \"\"\"\n",
    "        Load input image and preprocess for Caffe:\n",
    "        - cast to float\n",
    "        - switch channels RGB -> BGR\n",
    "        - subtract mean\n",
    "        - transpose to channel x height x width order\n",
    "        \"\"\"\n",
    "        im = Image.open('{}/data/images/img_{}.png'.format(nyud_dir, idx))\n",
    "        in_ = np.array(im, dtype=np.float32)\n",
    "        in_ = in_[:,:,::-1]\n",
    "        in_ -= mean_bgr\n",
    "        in_ = in_.transpose((2,0,1))\n",
    "        return in_\n",
    "    \n",
    "def load_depth(nyud_dir, idx):\n",
    "        \"\"\"\n",
    "        Load pre-processed depth for NYUDv2 segmentation set.\n",
    "        \"\"\"\n",
    "        #im = Image.open('{}/depth/img_{}.png'.format(self.nyud_dir, idx))\n",
    "        im = scipy.io.loadmat('{}/data/depth/img_{}.mat'.format(nyud_dir, idx))\n",
    "        d = im['depths'].astype(np.float32)\n",
    "        #d = np.log(d)\n",
    "        d -= mean_d\n",
    "        d = d[np.newaxis, ...]\n",
    "        return d\n",
    "    \n",
    "def load_hha(nyud_dir, idx):\n",
    "        \"\"\"\n",
    "        Load HHA features from Gupta et al. ECCV14.\n",
    "        See https://github.com/s-gupta/rcnn-depth/blob/master/rcnn/saveHHA.m\n",
    "        \"\"\"\n",
    "        im = Image.open('{}/data/hha/img_{}.png'.format(nyud_dir, idx))\n",
    "        hha = np.array(im, dtype=np.float32)\n",
    "        hha -= mean_hha\n",
    "        hha = hha.transpose((2,0,1))\n",
    "        return hha\n",
    "    \n",
    "allSceneLabel = sio.loadmat('{}/sceneLabel/imgAllScene.mat'.format(nyud_data_root))"
   ]
  },
  {
   "cell_type": "code",
   "execution_count": 7,
   "metadata": {
    "collapsed": false
   },
   "outputs": [],
   "source": [
    "allSceneLabel = sio.loadmat('{}/sceneLabel/imgAllScene.mat'.format(nyud_data_root))\n",
    "scene_label_names = allSceneLabel['sceneName']\n",
    "scene_label_names = scene_label_names.flatten().flatten()\n",
    "for i in range(len(scene_label_names)):\n",
    "    scene_label_names[i] = scene_label_names[i][0]"
   ]
  },
  {
   "cell_type": "code",
   "execution_count": 44,
   "metadata": {
    "collapsed": true
   },
   "outputs": [],
   "source": [
    "all_labels = allSceneLabel['gtScene'][0]\n",
    "all_labels = all_labels - 1 # Make labels start from 0"
   ]
  },
  {
   "cell_type": "code",
   "execution_count": 116,
   "metadata": {
    "collapsed": false
   },
   "outputs": [],
   "source": [
    "# static analyse\n",
    "label_hist,_ = np.histogram(all_labels,bins = range(27))"
   ]
  },
  {
   "cell_type": "code",
   "execution_count": 47,
   "metadata": {
    "collapsed": false
   },
   "outputs": [
    {
     "data": {
      "text/plain": [
       "array([  7, 121, 383,  36,   5,  49,   6,   5,   4, 117,   3,   4,  27,\n",
       "        50,   5,   2, 225,   3, 221,  78,  10,  31,   3,  17,   5,  25,   7])"
      ]
     },
     "execution_count": 47,
     "metadata": {},
     "output_type": "execute_result"
    }
   ],
   "source": [
    "label_hist"
   ]
  },
  {
   "cell_type": "code",
   "execution_count": 118,
   "metadata": {
    "collapsed": false
   },
   "outputs": [
    {
     "data": {
      "text/plain": [
       "(26,)"
      ]
     },
     "execution_count": 118,
     "metadata": {},
     "output_type": "execute_result"
    }
   ],
   "source": [
    "label_hist.shape"
   ]
  },
  {
   "cell_type": "markdown",
   "metadata": {},
   "source": [
    "# Data clean, drop the classes that number is less than 10"
   ]
  },
  {
   "cell_type": "markdown",
   "metadata": {},
   "source": [
    "1. new labels list\n",
    "2. new scene name list\n",
    "3. new index of picture"
   ]
  },
  {
   "cell_type": "code",
   "execution_count": 48,
   "metadata": {
    "collapsed": false
   },
   "outputs": [],
   "source": [
    "scenes_lists = []\n",
    "for i in xrange(27):\n",
    "    scenes_lists.append([])\n",
    "for i in xrange(len(all_labels)):\n",
    "    scenes_lists[int(all_labels[i])].append(i)"
   ]
  },
  {
   "cell_type": "code",
   "execution_count": 102,
   "metadata": {
    "collapsed": false
   },
   "outputs": [],
   "source": [
    "labels_new = []\n",
    "scene_names_new = []\n",
    "indexes_new = []\n",
    "current_label = 0\n",
    "i=0\n",
    "while(i<27):\n",
    "    if len(scenes_lists[i])>9:\n",
    "        scene_names_new.append(scene_label_names[i])\n",
    "        for j in range(len(scenes_lists[i])):\n",
    "            labels_new.append(current_label)\n",
    "            indexes_new.append(scenes_lists[i][j])\n",
    "        current_label +=1\n",
    "    i += 1 "
   ]
  },
  {
   "cell_type": "code",
   "execution_count": 67,
   "metadata": {
    "collapsed": false
   },
   "outputs": [
    {
     "data": {
      "text/plain": [
       "1390"
      ]
     },
     "execution_count": 67,
     "metadata": {},
     "output_type": "execute_result"
    }
   ],
   "source": [
    "len(indexes_new)"
   ]
  },
  {
   "cell_type": "code",
   "execution_count": 112,
   "metadata": {
    "collapsed": true
   },
   "outputs": [],
   "source": [
    "nyud_dir = '/home/yangyong/fcn.berkeleyvision.org/data/nyud'"
   ]
  },
  {
   "cell_type": "code",
   "execution_count": 109,
   "metadata": {
    "collapsed": true
   },
   "outputs": [],
   "source": [
    "scene_names_new = np.array(scene_names_new)\n",
    "labels_new = np.array(labels_new)\n",
    "sio.savemat('new_data/label/scene_name.mat',{'scene_name':scene_names_new})\n",
    "sio.savemat('new_data/label/label.mat',{'label':labels_new})"
   ]
  },
  {
   "cell_type": "code",
   "execution_count": 139,
   "metadata": {
    "collapsed": false
   },
   "outputs": [],
   "source": [
    "for i in range(len(indexes_new)):\n",
    "    idx = indexes_new[i] + 5001\n",
    "    #color = Image.open('{}/data/images/img_{}.png'.format(nyud_dir, idx))\n",
    "    depth = sio.loadmat('{}/data/depth/img_{}.mat'.format(nyud_dir, idx))['depths']\n",
    "    #hha  = Image.open('{}/data/hha/img_{}.png'.format(nyud_dir, idx))\n",
    "    depth = Image.fromarray(depth)\n",
    "    #color.save('new_data/data/color/img_{}.png'.format(i+5001))\n",
    "    depth.save('new_data/data/depth/img_{}.png'.format(i+5001))\n",
    "    #hha.save('new_data/data/hha/img_{}.png'.format(i+5001))\n",
    "    "
   ]
  },
  {
   "cell_type": "code",
   "execution_count": null,
   "metadata": {
    "collapsed": true
   },
   "outputs": [],
   "source": []
  },
  {
   "cell_type": "code",
   "execution_count": null,
   "metadata": {
    "collapsed": true
   },
   "outputs": [],
   "source": []
  }
 ],
 "metadata": {
  "anaconda-cloud": {},
  "kernelspec": {
   "display_name": "Python [default]",
   "language": "python",
   "name": "python2"
  },
  "language_info": {
   "codemirror_mode": {
    "name": "ipython",
    "version": 2
   },
   "file_extension": ".py",
   "mimetype": "text/x-python",
   "name": "python",
   "nbconvert_exporter": "python",
   "pygments_lexer": "ipython2",
   "version": "2.7.12"
  }
 },
 "nbformat": 4,
 "nbformat_minor": 1
}
